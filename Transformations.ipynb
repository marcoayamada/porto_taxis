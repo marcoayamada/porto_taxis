{
 "cells": [
  {
   "cell_type": "code",
   "execution_count": 1,
   "metadata": {},
   "outputs": [],
   "source": [
    "import pandas as pd\n",
    "import numpy as np\n",
    "import ast\n",
    "import datetime\n",
    "from math import radians, cos, sin, asin, sqrt"
   ]
  },
  {
   "cell_type": "code",
   "execution_count": 16,
   "metadata": {},
   "outputs": [],
   "source": [
    "usecols = ['TRIP_ID', 'CALL_TYPE', 'ORIGIN_CALL', 'ORIGIN_STAND', 'TAXI_ID', 'TIMESTAMP', 'DAY_TYPE', 'MISSING_DATA', 'POLYLINE']\n",
    "\n",
    "df = pd.read_csv('Porto_taxi_data_test_partial_trajectories.csv', usecols=usecols)\n",
    "\n",
    "# dropping and converting some columns\n",
    "# TRIP_ID: id, DAY_TYPE: calculado errado no dataset.\n",
    "#df.drop(['TRIP_ID','DAY_TYPE' ], axis=1, inplace=True)\n",
    "df.TIMESTAMP = pd.to_datetime(df.TIMESTAMP, unit='s')"
   ]
  },
  {
   "cell_type": "code",
   "execution_count": 17,
   "metadata": {},
   "outputs": [
    {
     "data": {
      "text/html": [
       "<div>\n",
       "<style scoped>\n",
       "    .dataframe tbody tr th:only-of-type {\n",
       "        vertical-align: middle;\n",
       "    }\n",
       "\n",
       "    .dataframe tbody tr th {\n",
       "        vertical-align: top;\n",
       "    }\n",
       "\n",
       "    .dataframe thead th {\n",
       "        text-align: right;\n",
       "    }\n",
       "</style>\n",
       "<table border=\"1\" class=\"dataframe\">\n",
       "  <thead>\n",
       "    <tr style=\"text-align: right;\">\n",
       "      <th></th>\n",
       "      <th>TRIP_ID</th>\n",
       "      <th>CALL_TYPE</th>\n",
       "      <th>ORIGIN_CALL</th>\n",
       "      <th>ORIGIN_STAND</th>\n",
       "      <th>TAXI_ID</th>\n",
       "      <th>TIMESTAMP</th>\n",
       "      <th>DAY_TYPE</th>\n",
       "      <th>MISSING_DATA</th>\n",
       "      <th>POLYLINE</th>\n",
       "    </tr>\n",
       "  </thead>\n",
       "  <tbody>\n",
       "    <tr>\n",
       "      <th>0</th>\n",
       "      <td>T1</td>\n",
       "      <td>B</td>\n",
       "      <td>NaN</td>\n",
       "      <td>15.0</td>\n",
       "      <td>20000542</td>\n",
       "      <td>2014-08-14 17:57:17</td>\n",
       "      <td>A</td>\n",
       "      <td>False</td>\n",
       "      <td>[[-8.585676, 41.148522], [-8.585712000000001, ...</td>\n",
       "    </tr>\n",
       "    <tr>\n",
       "      <th>1</th>\n",
       "      <td>T2</td>\n",
       "      <td>B</td>\n",
       "      <td>NaN</td>\n",
       "      <td>57.0</td>\n",
       "      <td>20000108</td>\n",
       "      <td>2014-08-14 17:50:11</td>\n",
       "      <td>A</td>\n",
       "      <td>False</td>\n",
       "      <td>[[-8.610876000000001, 41.14557], [-8.610858, 4...</td>\n",
       "    </tr>\n",
       "  </tbody>\n",
       "</table>\n",
       "</div>"
      ],
      "text/plain": [
       "  TRIP_ID CALL_TYPE  ORIGIN_CALL  ORIGIN_STAND   TAXI_ID           TIMESTAMP  \\\n",
       "0      T1         B          NaN          15.0  20000542 2014-08-14 17:57:17   \n",
       "1      T2         B          NaN          57.0  20000108 2014-08-14 17:50:11   \n",
       "\n",
       "  DAY_TYPE  MISSING_DATA                                           POLYLINE  \n",
       "0        A         False  [[-8.585676, 41.148522], [-8.585712000000001, ...  \n",
       "1        A         False  [[-8.610876000000001, 41.14557], [-8.610858, 4...  "
      ]
     },
     "execution_count": 17,
     "metadata": {},
     "output_type": "execute_result"
    }
   ],
   "source": [
    "df.head(2)"
   ]
  },
  {
   "cell_type": "code",
   "execution_count": 18,
   "metadata": {},
   "outputs": [],
   "source": [
    "def haversine(lon1, lat1, lon2, lat2):\n",
    "    \"\"\"\n",
    "    Calculate the great circle distance between two points \n",
    "    on the earth (specified in decimal degrees)\n",
    "    \"\"\"\n",
    "    # convert decimal degrees to radians \n",
    "    lon1, lat1, lon2, lat2 = map(radians, [lon1, lat1, lon2, lat2])\n",
    "\n",
    "    # haversine formula \n",
    "    #dlon = lon2 - lon1 \n",
    "    #dlat = lat2 - lat1 \n",
    "    a = sin((lat2 - lat1)/2)**2 + cos(lat1) * cos(lat2) * sin((lon2 - lon1)/2)**2\n",
    "    c = 2 * asin(sqrt(a)) \n",
    "    r = 6371 # Radius of earth in kilometers. Use 3956 for miles\n",
    "    return c * r"
   ]
  },
  {
   "cell_type": "code",
   "execution_count": 19,
   "metadata": {},
   "outputs": [],
   "source": [
    "def outliers_iqr(line):\n",
    "    if line.size>0:\n",
    "        q1_lon, q3_lon = np.percentile(line[:,0], [25, 75])\n",
    "        iqr_lon = q3_lon - q1_lon\n",
    "        lower_bound_lon = q1_lon - (iqr_lon * 1.5)\n",
    "        upper_bound_lon = q3_lon + (iqr_lon * 1.5)\n",
    "        \n",
    "\n",
    "        q1_lat, q3_lat = np.percentile(line[:,1], [25, 75])\n",
    "        iqr_lat = q3_lat - q1_lat\n",
    "        lower_bound_lat = q1_lat - (iqr_lat * 1.5)\n",
    "        upper_bound_lat = q3_lat + (iqr_lat * 1.5)\n",
    "        \n",
    "        # print(np.where((line[:,0] > upper_bound_lon) | (line[:,0] < lower_bound_lon))[0], '----', np.where((line[:,1] > upper_bound_lat) | (line[:,1] < lower_bound_lat))[0], '-----', final)\n",
    "       \n",
    "        return np.unique(np.concatenate([np.where((line[:,0] > upper_bound_lon) | (line[:,0] < lower_bound_lon))[0], \\\n",
    "                                         np.where((line[:,1] > upper_bound_lat) | (line[:,1] < lower_bound_lat))[0]], axis=0))"
   ]
  },
  {
   "cell_type": "code",
   "execution_count": 20,
   "metadata": {},
   "outputs": [],
   "source": [
    "def converte_dots_b(x):\n",
    "    \n",
    "    global cont;\n",
    "    \n",
    "    try:\n",
    "        cont+=1\n",
    "        dist=0\n",
    "        line = np.array(ast.literal_eval(x))\n",
    "       \n",
    "        #print(list(set(outliers)))\n",
    "        if len(line) > 0:\n",
    "            line=np.delete(line,list(outliers_iqr(line)), 0)\n",
    "            \n",
    "        for index,_ in enumerate(line):\n",
    "            lon1, lat1, lon2, lat2 = line[index:index+2,].ravel()\n",
    "            #print(lon1, lat1, lon2, lat2)\n",
    "            #print(line[index:index+2,].ravel())\n",
    "            dist += haversine(lon1, lat1, lon2, lat2)\n",
    "    except Exception as e:\n",
    "        #print(cont, e)\n",
    "        None\n",
    "    finally:\n",
    "        if cont%10000 ==0: print(datetime.datetime.now(), cont)\n",
    "        return round(dist,2)"
   ]
  },
  {
   "cell_type": "code",
   "execution_count": 21,
   "metadata": {
    "scrolled": true
   },
   "outputs": [
    {
     "name": "stdout",
     "output_type": "stream",
     "text": [
      "Wall time: 901 ms\n"
     ]
    }
   ],
   "source": [
    "%%time\n",
    "cont=0\n",
    "df['dist_perc'] = df.POLYLINE.apply(converte_dots_b)"
   ]
  },
  {
   "cell_type": "code",
   "execution_count": 22,
   "metadata": {},
   "outputs": [
    {
     "name": "stdout",
     "output_type": "stream",
     "text": [
      "Wall time: 462 ms\n"
     ]
    }
   ],
   "source": [
    "%%time\n",
    "df['start'] = df.POLYLINE.apply(lambda x: ast.literal_eval(x)[0] if len(x)>2 else None)"
   ]
  },
  {
   "cell_type": "code",
   "execution_count": 23,
   "metadata": {},
   "outputs": [
    {
     "name": "stdout",
     "output_type": "stream",
     "text": [
      "Wall time: 439 ms\n"
     ]
    }
   ],
   "source": [
    "%%time\n",
    "df['stop'] = df.POLYLINE.apply(lambda x: ast.literal_eval(x)[-1] if len(x)>2 else None)"
   ]
  },
  {
   "cell_type": "code",
   "execution_count": 24,
   "metadata": {},
   "outputs": [],
   "source": [
    "df['hour'] = df.TIMESTAMP.dt.hour"
   ]
  },
  {
   "cell_type": "code",
   "execution_count": 25,
   "metadata": {},
   "outputs": [],
   "source": [
    "df['start_lat'] = df.POLYLINE.apply(lambda x: ast.literal_eval(x)[0][-1] if len(x)>2 else None)\n",
    "df['start_lon'] = df.POLYLINE.apply(lambda x: ast.literal_eval(x)[0][0] if len(x)>2 else None)\n",
    "df['stop_lat'] = df.POLYLINE.apply(lambda x: ast.literal_eval(x)[-1][-1] if len(x)>2 else None)\n",
    "df['stop_lon'] = df.POLYLINE.apply(lambda x: ast.literal_eval(x)[-1][0] if len(x)>2 else None)"
   ]
  },
  {
   "cell_type": "code",
   "execution_count": 28,
   "metadata": {},
   "outputs": [],
   "source": [
    "df.to_csv('test_trated.csv', index=False, chunksize=700)"
   ]
  }
 ],
 "metadata": {
  "kernelspec": {
   "display_name": "Python 3",
   "language": "python",
   "name": "python3"
  },
  "language_info": {
   "codemirror_mode": {
    "name": "ipython",
    "version": 3
   },
   "file_extension": ".py",
   "mimetype": "text/x-python",
   "name": "python",
   "nbconvert_exporter": "python",
   "pygments_lexer": "ipython3",
   "version": "3.6.5"
  }
 },
 "nbformat": 4,
 "nbformat_minor": 2
}
