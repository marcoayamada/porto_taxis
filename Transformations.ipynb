{
 "cells": [
  {
   "cell_type": "code",
   "execution_count": 2,
   "metadata": {},
   "outputs": [],
   "source": [
    "import pandas as pd\n",
    "import numpy as np\n",
    "import ast\n",
    "import datetime\n",
    "from math import radians, cos, sin, asin, sqrt"
   ]
  },
  {
   "cell_type": "code",
   "execution_count": 3,
   "metadata": {},
   "outputs": [],
   "source": [
    "usecols = ['CALL_TYPE', 'ORIGIN_CALL', 'ORIGIN_STAND', 'TAXI_ID', 'TIMESTAMP', 'DAY_TYPE', 'MISSING_DATA', 'POLYLINE']\n",
    "\n",
    "#df = pd.read_csv('train.csv', dtype=dtypes, usecols=usecols, skiprows=range(1, 1264770), nrows=2)\n",
    "df = pd.read_csv('train.csv', usecols=usecols)\n",
    "\n",
    "# dropping and converting some columns\n",
    "# TRIP_ID: id, DAY_TYPE: calculado errado no dataset.\n",
    "#df.drop(['TRIP_ID','DAY_TYPE' ], axis=1, inplace=True)\n",
    "df.TIMESTAMP = pd.to_datetime(df.TIMESTAMP, unit='s')"
   ]
  },
  {
   "cell_type": "code",
   "execution_count": 14,
   "metadata": {},
   "outputs": [
    {
     "data": {
      "text/html": [
       "<div>\n",
       "<style scoped>\n",
       "    .dataframe tbody tr th:only-of-type {\n",
       "        vertical-align: middle;\n",
       "    }\n",
       "\n",
       "    .dataframe tbody tr th {\n",
       "        vertical-align: top;\n",
       "    }\n",
       "\n",
       "    .dataframe thead th {\n",
       "        text-align: right;\n",
       "    }\n",
       "</style>\n",
       "<table border=\"1\" class=\"dataframe\">\n",
       "  <thead>\n",
       "    <tr style=\"text-align: right;\">\n",
       "      <th></th>\n",
       "      <th>CALL_TYPE</th>\n",
       "      <th>ORIGIN_CALL</th>\n",
       "      <th>ORIGIN_STAND</th>\n",
       "      <th>TAXI_ID</th>\n",
       "      <th>TIMESTAMP</th>\n",
       "      <th>DAY_TYPE</th>\n",
       "      <th>MISSING_DATA</th>\n",
       "      <th>POLYLINE</th>\n",
       "    </tr>\n",
       "  </thead>\n",
       "  <tbody>\n",
       "    <tr>\n",
       "      <th>0</th>\n",
       "      <td>C</td>\n",
       "      <td>NaN</td>\n",
       "      <td>NaN</td>\n",
       "      <td>20000589</td>\n",
       "      <td>2013-07-01 00:00:58</td>\n",
       "      <td>A</td>\n",
       "      <td>False</td>\n",
       "      <td>[[-8.618643,41.141412],[-8.618499,41.141376],[...</td>\n",
       "    </tr>\n",
       "    <tr>\n",
       "      <th>1</th>\n",
       "      <td>B</td>\n",
       "      <td>NaN</td>\n",
       "      <td>7</td>\n",
       "      <td>20000596</td>\n",
       "      <td>2013-07-01 00:08:23</td>\n",
       "      <td>A</td>\n",
       "      <td>False</td>\n",
       "      <td>[[-8.639847,41.159826],[-8.640351,41.159871],[...</td>\n",
       "    </tr>\n",
       "  </tbody>\n",
       "</table>\n",
       "</div>"
      ],
      "text/plain": [
       "  CALL_TYPE ORIGIN_CALL ORIGIN_STAND   TAXI_ID           TIMESTAMP DAY_TYPE  \\\n",
       "0         C         NaN          NaN  20000589 2013-07-01 00:00:58        A   \n",
       "1         B         NaN            7  20000596 2013-07-01 00:08:23        A   \n",
       "\n",
       "   MISSING_DATA                                           POLYLINE  \n",
       "0         False  [[-8.618643,41.141412],[-8.618499,41.141376],[...  \n",
       "1         False  [[-8.639847,41.159826],[-8.640351,41.159871],[...  "
      ]
     },
     "execution_count": 14,
     "metadata": {},
     "output_type": "execute_result"
    }
   ],
   "source": [
    "df.head(2)"
   ]
  },
  {
   "cell_type": "code",
   "execution_count": 3,
   "metadata": {},
   "outputs": [],
   "source": [
    "def haversine(lon1, lat1, lon2, lat2):\n",
    "    \"\"\"\n",
    "    Calculate the great circle distance between two points \n",
    "    on the earth (specified in decimal degrees)\n",
    "    \"\"\"\n",
    "    # convert decimal degrees to radians \n",
    "    lon1, lat1, lon2, lat2 = map(radians, [lon1, lat1, lon2, lat2])\n",
    "\n",
    "    # haversine formula \n",
    "    #dlon = lon2 - lon1 \n",
    "    #dlat = lat2 - lat1 \n",
    "    a = sin((lat2 - lat1)/2)**2 + cos(lat1) * cos(lat2) * sin((lon2 - lon1)/2)**2\n",
    "    c = 2 * asin(sqrt(a)) \n",
    "    r = 6371 # Radius of earth in kilometers. Use 3956 for miles\n",
    "    return c * r"
   ]
  },
  {
   "cell_type": "code",
   "execution_count": 270,
   "metadata": {},
   "outputs": [],
   "source": [
    "def outliers_iqr(line):\n",
    "    if line.size>0:\n",
    "        q1_lon, q3_lon = np.percentile(line[:,0], [25, 75])\n",
    "        iqr_lon = q3_lon - q1_lon\n",
    "        lower_bound_lon = q1_lon - (iqr_lon * 1.5)\n",
    "        upper_bound_lon = q3_lon + (iqr_lon * 1.5)\n",
    "        \n",
    "\n",
    "        q1_lat, q3_lat = np.percentile(line[:,1], [25, 75])\n",
    "        iqr_lat = q3_lat - q1_lat\n",
    "        lower_bound_lat = q1_lat - (iqr_lat * 1.5)\n",
    "        upper_bound_lat = q3_lat + (iqr_lat * 1.5)\n",
    "        \n",
    "        # print(np.where((line[:,0] > upper_bound_lon) | (line[:,0] < lower_bound_lon))[0], '----', np.where((line[:,1] > upper_bound_lat) | (line[:,1] < lower_bound_lat))[0], '-----', final)\n",
    "       \n",
    "        return np.unique(np.concatenate([np.where((line[:,0] > upper_bound_lon) | (line[:,0] < lower_bound_lon))[0], \\\n",
    "                                         np.where((line[:,1] > upper_bound_lat) | (line[:,1] < lower_bound_lat))[0]], axis=0))"
   ]
  },
  {
   "cell_type": "code",
   "execution_count": 236,
   "metadata": {},
   "outputs": [],
   "source": [
    "def converte_dots_b(x):\n",
    "    \n",
    "    global cont;\n",
    "    \n",
    "    try:\n",
    "        cont+=1\n",
    "        dist=0\n",
    "        line = np.array(ast.literal_eval(x))\n",
    "       \n",
    "        #print(list(set(outliers)))\n",
    "        if len(line) > 0:\n",
    "            line=np.delete(line,list(outliers_iqr(line)), 0)\n",
    "            \n",
    "        for index,_ in enumerate(line):\n",
    "            lon1, lat1, lon2, lat2 = line[index:index+2,].ravel()\n",
    "            #print(lon1, lat1, lon2, lat2)\n",
    "            #print(line[index:index+2,].ravel())\n",
    "            dist += haversine(lon1, lat1, lon2, lat2)\n",
    "    except Exception as e:\n",
    "        #print(cont, e)\n",
    "        None\n",
    "    finally:\n",
    "        if cont%10000 ==0: print(datetime.datetime.now(), cont)\n",
    "        return round(dist,2)"
   ]
  },
  {
   "cell_type": "code",
   "execution_count": 237,
   "metadata": {
    "scrolled": true
   },
   "outputs": [
    {
     "name": "stdout",
     "output_type": "stream",
     "text": [
      "Wall time: 31 ms\n"
     ]
    }
   ],
   "source": [
    "%%time\n",
    "cont=0\n",
    "df['dist_perc'] = df.POLYLINE.apply(converte_dots_b)\n"
   ]
  },
  {
   "cell_type": "code",
   "execution_count": 39,
   "metadata": {},
   "outputs": [
    {
     "name": "stdout",
     "output_type": "stream",
     "text": [
      "Wall time: 3 ms\n"
     ]
    }
   ],
   "source": [
    "%%time\n",
    "df['start'] = df.POLYLINE.apply(lambda x: ast.literal_eval(x)[0] if len(x)>2 else None)"
   ]
  },
  {
   "cell_type": "code",
   "execution_count": 40,
   "metadata": {},
   "outputs": [
    {
     "name": "stdout",
     "output_type": "stream",
     "text": [
      "Wall time: 3.01 ms\n"
     ]
    }
   ],
   "source": [
    "%%time\n",
    "df['stop'] = df.POLYLINE.apply(lambda x: ast.literal_eval(x)[-1] if len(x)>2 else None)"
   ]
  },
  {
   "cell_type": "code",
   "execution_count": null,
   "metadata": {},
   "outputs": [],
   "source": [
    "df['hour'] = df.TIMESTAMP.dt.hour"
   ]
  },
  {
   "cell_type": "code",
   "execution_count": null,
   "metadata": {},
   "outputs": [],
   "source": [
    "df['start_lat'] = df.POLYLINE.apply(lambda x: ast.literal_eval(x)[0][-1] if len(x)>2 else None)\n",
    "df['start_lon'] = df.POLYLINE.apply(lambda x: ast.literal_eval(x)[0][0] if len(x)>2 else None)\n",
    "df['stop_lat'] = df.POLYLINE.apply(lambda x: ast.literal_eval(x)[-1][-1] if len(x)>2 else None)\n",
    "df['stop_lon'] = df.POLYLINE.apply(lambda x: ast.literal_eval(x)[-1][0] if len(x)>2 else None)"
   ]
  },
  {
   "cell_type": "code",
   "execution_count": 41,
   "metadata": {},
   "outputs": [],
   "source": [
    "df.to_csv('train_tratado_outliers.csv', index=False, chunksize=700)"
   ]
  }
 ],
 "metadata": {
  "kernelspec": {
   "display_name": "Python 3",
   "language": "python",
   "name": "python3"
  },
  "language_info": {
   "codemirror_mode": {
    "name": "ipython",
    "version": 3
   },
   "file_extension": ".py",
   "mimetype": "text/x-python",
   "name": "python",
   "nbconvert_exporter": "python",
   "pygments_lexer": "ipython3",
   "version": "3.6.5"
  }
 },
 "nbformat": 4,
 "nbformat_minor": 2
}
