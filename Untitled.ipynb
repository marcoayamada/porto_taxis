{
 "cells": [
  {
   "cell_type": "code",
   "execution_count": 1,
   "metadata": {},
   "outputs": [],
   "source": [
    "import pandas as pd\n",
    "import numpy as np\n",
    "import matplotlib.pyplot as plt\n",
    "import seaborn as sns\n",
    "\n",
    "import ast\n",
    "import holidays\n",
    "import re\n",
    "from geopy import distance"
   ]
  },
  {
   "cell_type": "code",
   "execution_count": 3,
   "metadata": {},
   "outputs": [],
   "source": [
    "dtypes={\n",
    "    'CALL_TYPE':'category',\n",
    "    'ORIGIN_CALL':'category',\n",
    "    'ORIGIN_STAND':'category',\n",
    "    'TAXI_ID':'category',\n",
    "    'DAY_TYPE':'category'\n",
    "}\n",
    "\n",
    "usecols = ['CALL_TYPE', 'ORIGIN_CALL', 'ORIGIN_STAND', 'TAXI_ID', 'TIMESTAMP', 'DAY_TYPE', 'MISSING_DATA', 'POLYLINE']\n",
    "\n",
    "df = pd.read_csv('train.csv', dtype=dtypes, usecols=usecols, nrows=1000)\n",
    "\n",
    "# dropping and converting some columns\n",
    "# TRIP_ID: id, DAY_TYPE: calculado errado no dataset.\n",
    "#df.drop(['TRIP_ID','DAY_TYPE' ], axis=1, inplace=True)\n",
    "df.TIMESTAMP = pd.to_datetime(df.TIMESTAMP, unit='s')"
   ]
  },
  {
   "cell_type": "code",
   "execution_count": 14,
   "metadata": {},
   "outputs": [],
   "source": [
    "from math import radians, cos, sin, asin, sqrt\n",
    "\n",
    "def haversine(lon1, lat1, lon2, lat2):\n",
    "    \"\"\"\n",
    "    Calculate the great circle distance between two points \n",
    "    on the earth (specified in decimal degrees)\n",
    "    \"\"\"\n",
    "    # convert decimal degrees to radians \n",
    "    lon1, lat1, lon2, lat2 = map(radians, [lon1, lat1, lon2, lat2])\n",
    "\n",
    "    # haversine formula \n",
    "    dlon = lon2 - lon1 \n",
    "    dlat = lat2 - lat1 \n",
    "    a = sin(dlat/2)**2 + cos(lat1) * cos(lat2) * sin(dlon/2)**2\n",
    "    c = 2 * asin(sqrt(a)) \n",
    "    r = 6371 # Radius of earth in kilometers. Use 3956 for miles\n",
    "    return c * r"
   ]
  },
  {
   "cell_type": "code",
   "execution_count": 34,
   "metadata": {
    "scrolled": true
   },
   "outputs": [],
   "source": [
    "t = df.POLYLINE.apply(lambda x: np.array(ast.literal_eval(x)))\n"
   ]
  },
  {
   "cell_type": "code",
   "execution_count": 21,
   "metadata": {},
   "outputs": [
    {
     "data": {
      "text/plain": [
       "[1, 5, 5]"
      ]
     },
     "execution_count": 21,
     "metadata": {},
     "output_type": "execute_result"
    }
   ],
   "source": [
    "a = np.array([-2, 1, 5, 3, 8, 5, 6])\n",
    "b = [1, 2, 5]\n",
    "list(a[b])\n"
   ]
  },
  {
   "cell_type": "code",
   "execution_count": 52,
   "metadata": {},
   "outputs": [
    {
     "data": {
      "text/plain": [
       "array([-8.618643, 41.141412, -8.618499, 41.141376, -8.620326, 41.14251 ,\n",
       "       -8.622153, 41.143815, -8.623953, 41.144373, -8.62668 , 41.144778,\n",
       "       -8.627373, 41.144697, -8.630226, 41.14521 , -8.632746, 41.14692 ,\n",
       "       -8.631738, 41.148225, -8.629938, 41.150385, -8.62911 , 41.151213,\n",
       "       -8.629128, 41.15124 , -8.628786, 41.152203, -8.628687, 41.152374,\n",
       "       -8.628759, 41.152518, -8.630838, 41.15268 , -8.632323, 41.153022,\n",
       "       -8.631144, 41.154489, -8.630829, 41.154507, -8.630829, 41.154516,\n",
       "       -8.630829, 41.154498, -8.630838, 41.154489])"
      ]
     },
     "execution_count": 52,
     "metadata": {},
     "output_type": "execute_result"
    }
   ],
   "source": [
    "t[0].ravel()"
   ]
  },
  {
   "cell_type": "code",
   "execution_count": 64,
   "metadata": {},
   "outputs": [],
   "source": [
    "def dist_perc2(x):\n",
    "    try:\n",
    "        global count\n",
    "        dist=0\n",
    "        x = ast.literal_eval(x)\n",
    "        try: # esse try serve pra identificar quando estou na ultima posicao e nao tem o da frente pra fazer a diff.\n",
    "            dist += [distance.distance((reversed(x[index])),reversed(x[index+1])).km for index, item in enumerate(x)]\n",
    "            #for index, item in enumerate(x):\n",
    "            #    #print(x[index],x[index+1],'-----' ,list(reversed(x[index])),list(reversed(x[index+1])))\n",
    "            #    dist += distance.distance((reversed(x[index])),reversed(x[index+1])).km # reversed pq lat e lon estão invertidas\n",
    "            #    #quando nao tiver mais com quem comparar, vai pro except e retorna o calculo\n",
    "        except:\n",
    "            return dist\n",
    "    except:\n",
    "        print(count, 'error try de fora', len(x))\n",
    "        return dist\n",
    "    finally:\n",
    "        count+=1\n",
    "        if count%1000==0:\n",
    "            print(count, datetime.datetime.now())\n",
    "        gc.collect()"
   ]
  },
  {
   "cell_type": "code",
   "execution_count": 40,
   "metadata": {},
   "outputs": [
    {
     "data": {
      "text/plain": [
       "array([-8.618643, 41.141412, -8.618499, 41.141376])"
      ]
     },
     "execution_count": 40,
     "metadata": {},
     "output_type": "execute_result"
    }
   ],
   "source": [
    "idx = [0,1]\n",
    "t[0][idx].ravel()"
   ]
  },
  {
   "cell_type": "code",
   "execution_count": 61,
   "metadata": {},
   "outputs": [
    {
     "data": {
      "text/plain": [
       "array([[-8.618499, 41.141376],\n",
       "       [-8.620326, 41.14251 ],\n",
       "       [-8.622153, 41.143815],\n",
       "       [-8.623953, 41.144373],\n",
       "       [-8.62668 , 41.144778],\n",
       "       [-8.627373, 41.144697],\n",
       "       [-8.630226, 41.14521 ],\n",
       "       [-8.632746, 41.14692 ],\n",
       "       [-8.631738, 41.148225],\n",
       "       [-8.629938, 41.150385],\n",
       "       [-8.62911 , 41.151213],\n",
       "       [-8.629128, 41.15124 ],\n",
       "       [-8.628786, 41.152203],\n",
       "       [-8.628687, 41.152374],\n",
       "       [-8.628759, 41.152518],\n",
       "       [-8.630838, 41.15268 ],\n",
       "       [-8.632323, 41.153022],\n",
       "       [-8.631144, 41.154489],\n",
       "       [-8.630829, 41.154507],\n",
       "       [-8.630829, 41.154516],\n",
       "       [-8.630829, 41.154498],\n",
       "       [-8.630838, 41.154489]])"
      ]
     },
     "execution_count": 61,
     "metadata": {},
     "output_type": "execute_result"
    }
   ],
   "source": [
    "#t[0][:-1] # ate o penultimo\n",
    "t[0][1:] # segundo pra frente"
   ]
  },
  {
   "cell_type": "code",
   "execution_count": 16,
   "metadata": {},
   "outputs": [
    {
     "data": {
      "text/plain": [
       "[-8.618643, 41.141412]"
      ]
     },
     "execution_count": 16,
     "metadata": {},
     "output_type": "execute_result"
    }
   ],
   "source": [
    "t[0][:-1][0]"
   ]
  },
  {
   "cell_type": "code",
   "execution_count": 15,
   "metadata": {},
   "outputs": [
    {
     "data": {
      "text/plain": [
       "[-8.618499, 41.141376]"
      ]
     },
     "execution_count": 15,
     "metadata": {},
     "output_type": "execute_result"
    }
   ],
   "source": [
    "t[0][1:][0]"
   ]
  },
  {
   "cell_type": "code",
   "execution_count": null,
   "metadata": {},
   "outputs": [],
   "source": [
    "[-8.618643, 41.141412],\n",
    "[-8.618499, 41.141376],\n",
    "[-8.620326, 41.14251],\n",
    "[-8.622153, 41.143815],"
   ]
  }
 ],
 "metadata": {
  "kernelspec": {
   "display_name": "Python 3",
   "language": "python",
   "name": "python3"
  },
  "language_info": {
   "codemirror_mode": {
    "name": "ipython",
    "version": 3
   },
   "file_extension": ".py",
   "mimetype": "text/x-python",
   "name": "python",
   "nbconvert_exporter": "python",
   "pygments_lexer": "ipython3",
   "version": "3.6.5"
  }
 },
 "nbformat": 4,
 "nbformat_minor": 2
}
