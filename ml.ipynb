{
 "cells": [
  {
   "cell_type": "code",
   "execution_count": 47,
   "metadata": {},
   "outputs": [],
   "source": [
    "import pandas as pd\n",
    "import numpy as np\n",
    "import ast\n",
    "import datetime\n",
    "import holidays\n",
    "\n",
    "from sklearn import preprocessing\n",
    "from sklearn.preprocessing import OneHotEncoder\n",
    "from sklearn.preprocessing import MinMaxScaler\n",
    "from sklearn.model_selection import train_test_split\n",
    "from sklearn.linear_model import LinearRegression\n",
    "from sklearn.linear_model import Lasso\n",
    "from sklearn.linear_model import Ridge\n",
    "from sklearn.svm import LinearSVR\n",
    "from sklearn.neighbors import KNeighborsRegressor\n",
    "from sklearn.ensemble import GradientBoostingRegressor\n",
    "from sklearn.ensemble import RandomForestRegressor\n",
    "from sklearn.ensemble import AdaBoostRegressor\n",
    "from xgboost import XGBRegressor\n",
    "from sklearn.multioutput import MultiOutputRegressor\n",
    "from sklearn.model_selection import GridSearchCV\n",
    "from sklearn.metrics import make_scorer"
   ]
  },
  {
   "cell_type": "code",
   "execution_count": 64,
   "metadata": {},
   "outputs": [],
   "source": [
    "usecols = ['CALL_TYPE', 'ORIGIN_CALL', 'ORIGIN_STAND', 'TAXI_ID', 'TIMESTAMP',\n",
    "           'dist_perc', 'start_lat', 'start_lon', 'stop_lat', 'stop_lon']\n",
    "\n",
    "df = pd.read_csv('train_tratado_outliers_2.csv', usecols=usecols, parse_dates=True, nrows=300000)\n",
    "\n",
    "# cabeçalho minusculo\n",
    "df.columns = df.columns.map(lambda x: x.lower())\n",
    "#conversão da data de obj para datetime\n",
    "df.timestamp = pd.to_datetime(df.timestamp)"
   ]
  },
  {
   "cell_type": "code",
   "execution_count": 65,
   "metadata": {},
   "outputs": [],
   "source": [
    "def trata_dados(df):\n",
    "    #--- Timestamp\n",
    "    df['month'] = df['timestamp'].dt.month\n",
    "    df['day'] = df['timestamp'].dt.day\n",
    "    #df['cat_hour'] = pd.cut(df.timestamp.dt.hour, [-1, 8, 16, 23], labels=[0,1,2])\n",
    "    df['hour'] = df.timestamp.dt.hour\n",
    "    df['fds_fer'] = df.timestamp.dt.dayofweek\n",
    "    df['fds_fer'] = df['fds_fer'].apply(lambda x: 1 if x==0 or x==6 else 0) #dom/sab = 0\n",
    "    for data in sorted(holidays.Portugal(years=[2013, 2014])): # add holidays\n",
    "        df['fds_fer'] = 1 if len(df[df.timestamp.dt.date==data])>0 else 0\n",
    "    \n",
    "    del df['timestamp']\n",
    "\n",
    "    #--- Call_type hot encode\n",
    "    df['call_type'] = preprocessing.LabelEncoder().fit_transform(df['call_type'])\n",
    "    enc = OneHotEncoder().fit_transform(df[['call_type']])\n",
    "    del df['call_type']\n",
    "    df['call_type_a'] = enc.toarray()[:,0]\n",
    "    df['call_type_b'] = enc.toarray()[:,1]\n",
    "    df['call_type_c'] = enc.toarray()[:,2]\n",
    "\n",
    "    #--- Fill na\n",
    "    df.fillna(-1, inplace=True)\n",
    "\n",
    "    return df"
   ]
  },
  {
   "cell_type": "code",
   "execution_count": 66,
   "metadata": {
    "scrolled": true
   },
   "outputs": [],
   "source": [
    "df = trata_dados(df)"
   ]
  },
  {
   "cell_type": "code",
   "execution_count": 67,
   "metadata": {},
   "outputs": [
    {
     "data": {
      "text/html": [
       "<div>\n",
       "<style scoped>\n",
       "    .dataframe tbody tr th:only-of-type {\n",
       "        vertical-align: middle;\n",
       "    }\n",
       "\n",
       "    .dataframe tbody tr th {\n",
       "        vertical-align: top;\n",
       "    }\n",
       "\n",
       "    .dataframe thead th {\n",
       "        text-align: right;\n",
       "    }\n",
       "</style>\n",
       "<table border=\"1\" class=\"dataframe\">\n",
       "  <thead>\n",
       "    <tr style=\"text-align: right;\">\n",
       "      <th></th>\n",
       "      <th>origin_call</th>\n",
       "      <th>origin_stand</th>\n",
       "      <th>taxi_id</th>\n",
       "      <th>dist_perc</th>\n",
       "      <th>start_lat</th>\n",
       "      <th>start_lon</th>\n",
       "      <th>stop_lat</th>\n",
       "      <th>stop_lon</th>\n",
       "      <th>month</th>\n",
       "      <th>day</th>\n",
       "      <th>hour</th>\n",
       "      <th>fds_fer</th>\n",
       "      <th>call_type_a</th>\n",
       "      <th>call_type_b</th>\n",
       "      <th>call_type_c</th>\n",
       "    </tr>\n",
       "  </thead>\n",
       "  <tbody>\n",
       "    <tr>\n",
       "      <th>0</th>\n",
       "      <td>-1.0</td>\n",
       "      <td>-1.0</td>\n",
       "      <td>20000589</td>\n",
       "      <td>2.23</td>\n",
       "      <td>41.141412</td>\n",
       "      <td>-8.618643</td>\n",
       "      <td>41.154489</td>\n",
       "      <td>-8.630838</td>\n",
       "      <td>7</td>\n",
       "      <td>1</td>\n",
       "      <td>0</td>\n",
       "      <td>0</td>\n",
       "      <td>0.0</td>\n",
       "      <td>0.0</td>\n",
       "      <td>1.0</td>\n",
       "    </tr>\n",
       "    <tr>\n",
       "      <th>1</th>\n",
       "      <td>-1.0</td>\n",
       "      <td>7.0</td>\n",
       "      <td>20000596</td>\n",
       "      <td>3.46</td>\n",
       "      <td>41.159826</td>\n",
       "      <td>-8.639847</td>\n",
       "      <td>41.170671</td>\n",
       "      <td>-8.665740</td>\n",
       "      <td>7</td>\n",
       "      <td>1</td>\n",
       "      <td>0</td>\n",
       "      <td>0</td>\n",
       "      <td>0.0</td>\n",
       "      <td>1.0</td>\n",
       "      <td>0.0</td>\n",
       "    </tr>\n",
       "    <tr>\n",
       "      <th>2</th>\n",
       "      <td>-1.0</td>\n",
       "      <td>-1.0</td>\n",
       "      <td>20000320</td>\n",
       "      <td>17.63</td>\n",
       "      <td>41.140359</td>\n",
       "      <td>-8.612964</td>\n",
       "      <td>41.140530</td>\n",
       "      <td>-8.615970</td>\n",
       "      <td>7</td>\n",
       "      <td>1</td>\n",
       "      <td>0</td>\n",
       "      <td>0</td>\n",
       "      <td>0.0</td>\n",
       "      <td>0.0</td>\n",
       "      <td>1.0</td>\n",
       "    </tr>\n",
       "    <tr>\n",
       "      <th>3</th>\n",
       "      <td>-1.0</td>\n",
       "      <td>-1.0</td>\n",
       "      <td>20000520</td>\n",
       "      <td>7.97</td>\n",
       "      <td>41.151951</td>\n",
       "      <td>-8.574678</td>\n",
       "      <td>41.142915</td>\n",
       "      <td>-8.607996</td>\n",
       "      <td>7</td>\n",
       "      <td>1</td>\n",
       "      <td>0</td>\n",
       "      <td>0</td>\n",
       "      <td>0.0</td>\n",
       "      <td>0.0</td>\n",
       "      <td>1.0</td>\n",
       "    </tr>\n",
       "    <tr>\n",
       "      <th>4</th>\n",
       "      <td>-1.0</td>\n",
       "      <td>-1.0</td>\n",
       "      <td>20000337</td>\n",
       "      <td>4.81</td>\n",
       "      <td>41.180490</td>\n",
       "      <td>-8.645994</td>\n",
       "      <td>41.178087</td>\n",
       "      <td>-8.687268</td>\n",
       "      <td>7</td>\n",
       "      <td>1</td>\n",
       "      <td>0</td>\n",
       "      <td>0</td>\n",
       "      <td>0.0</td>\n",
       "      <td>0.0</td>\n",
       "      <td>1.0</td>\n",
       "    </tr>\n",
       "  </tbody>\n",
       "</table>\n",
       "</div>"
      ],
      "text/plain": [
       "   origin_call  origin_stand   taxi_id  dist_perc  start_lat  start_lon  \\\n",
       "0         -1.0          -1.0  20000589       2.23  41.141412  -8.618643   \n",
       "1         -1.0           7.0  20000596       3.46  41.159826  -8.639847   \n",
       "2         -1.0          -1.0  20000320      17.63  41.140359  -8.612964   \n",
       "3         -1.0          -1.0  20000520       7.97  41.151951  -8.574678   \n",
       "4         -1.0          -1.0  20000337       4.81  41.180490  -8.645994   \n",
       "\n",
       "    stop_lat  stop_lon  month  day  hour  fds_fer  call_type_a  call_type_b  \\\n",
       "0  41.154489 -8.630838      7    1     0        0          0.0          0.0   \n",
       "1  41.170671 -8.665740      7    1     0        0          0.0          1.0   \n",
       "2  41.140530 -8.615970      7    1     0        0          0.0          0.0   \n",
       "3  41.142915 -8.607996      7    1     0        0          0.0          0.0   \n",
       "4  41.178087 -8.687268      7    1     0        0          0.0          0.0   \n",
       "\n",
       "   call_type_c  \n",
       "0          1.0  \n",
       "1          0.0  \n",
       "2          1.0  \n",
       "3          1.0  \n",
       "4          1.0  "
      ]
     },
     "execution_count": 67,
     "metadata": {},
     "output_type": "execute_result"
    }
   ],
   "source": [
    "df.head()"
   ]
  },
  {
   "cell_type": "code",
   "execution_count": 72,
   "metadata": {
    "scrolled": true
   },
   "outputs": [],
   "source": [
    "df = df.drop(['origin_call', 'origin_stand'], axis=1)"
   ]
  },
  {
   "cell_type": "code",
   "execution_count": 75,
   "metadata": {},
   "outputs": [],
   "source": [
    "del df['taxi_id']"
   ]
  },
  {
   "cell_type": "markdown",
   "metadata": {},
   "source": [
    "## Start ML process"
   ]
  },
  {
   "cell_type": "code",
   "execution_count": 5,
   "metadata": {},
   "outputs": [],
   "source": [
    "# Deprecated! Using np instead.\n",
    "\n",
    "#def haversine(lon1, lat1, lon2, lat2):\n",
    "#    \"\"\"\n",
    "#    Calculate the great circle distance between two points \n",
    "#    on the earth (specified in decimal degrees)\n",
    "#    \"\"\"\n",
    "#    # convert decimal degrees to radians \n",
    "#    lon1, lat1, lon2, lat2 = map(radians, [lon1, lat1, lon2, lat2])\n",
    "#\n",
    "#    # haversine formula \n",
    "#    #dlon = lon2 - lon1 \n",
    "#    #dlat = lat2 - lat1 \n",
    "#    a = sin((lat2 - lat1)/2)**2 + cos(lat1) * cos(lat2) * sin((lon2 - lon1)/2)**2\n",
    "#    c = 2 * asin(sqrt(a)) \n",
    "#    r = 6371 # Radius of earth in kilometers. Use 3956 for miles\n",
    "#    return c * r"
   ]
  },
  {
   "cell_type": "code",
   "execution_count": 68,
   "metadata": {},
   "outputs": [],
   "source": [
    "# Runs some algorithm for comparing\n",
    "\n",
    "def algs_test(X1, X2, y1, y2):\n",
    "\n",
    "    algs =[('linear', LinearRegression()),\n",
    "           ('ridge', Ridge(random_state=99)),\n",
    "           ('lasso', Lasso(random_state=99)), #lasso 142.7065081365015 561.2795889474457\n",
    "           ('lsvr', LinearSVR(random_state=99)),\n",
    "           ('KNN reg', KNeighborsRegressor()), #KNN reg 3.3861972620770264 3.5182287757352873\n",
    "           ('gboost', GradientBoostingRegressor(random_state=99)),\n",
    "           ('ada boost', AdaBoostRegressor(random_state=99)),\n",
    "           ('rnd forest', RandomForestRegressor(random_state=99)),\n",
    "           ('xgboost', XGBRegressor(random_state=99, n_jobs=-1))\n",
    "           ]\n",
    "\n",
    "    for name, alg in algs:\n",
    "        try:\n",
    "            alg.fit(X1, y1)\n",
    "            preds = alg.predict(X2)\n",
    "\n",
    "            concat = np.apply_along_axis(np.radians, 1, np.concatenate((np.array(y2), preds), axis=1)) \n",
    "            hav_dist = np.apply_along_axis(lambda x: 6371*(2*np.arcsin(np.sqrt((np.sin((x[3]-x[1])/2)**2 + np.cos(x[1])*np.cos(x[3])*np.sin((x[2]-x[0])/2)**2)))), 1, concat)\n",
    "            \n",
    "            #deprecated!\n",
    "            #result = y2.copy()\n",
    "            #result['pred_lat'] = preds[:,0]\n",
    "            #result['pred_lon'] = preds[:,1]\n",
    "            #hav_dist = result.apply(lambda x: haversine(x.stop_lon, x.stop_lat, x.pred_lon, x.pred_lat) ,axis=1) \n",
    "\n",
    "            print('normal',name, hav_dist.mean(), hav_dist.std())\n",
    "        except: # se o algoritmo nao possui suporte nativo para multioutput\n",
    "            mo = MultiOutputRegressor(alg, n_jobs=-1).fit(X1, y1)\n",
    "            preds = mo.predict(X2)\n",
    "\n",
    "            concat = np.apply_along_axis(np.radians, 1, np.concatenate((np.array(y2), preds), axis=1)) \n",
    "            hav_dist = np.apply_along_axis(lambda x: 6371*(2*np.arcsin(np.sqrt((np.sin((x[3]-x[1])/2)**2 + np.cos(x[1])*np.cos(x[3])*np.sin((x[2]-x[0])/2)**2)))), 1, concat)\n",
    "            \n",
    "            #deprecated!\n",
    "            #result = y2.copy()\n",
    "            #result['pred_lat'] = preds[:,0]\n",
    "            #result['pred_lon'] = preds[:,1]\n",
    "            #hav_dist = result.apply(lambda x: haversine(x.stop_lon, x.stop_lat, x.pred_lon, x.pred_lat) ,axis=1) \n",
    "\n",
    "            print('multi',name, hav_dist.mean(), hav_dist.std())"
   ]
  },
  {
   "cell_type": "code",
   "execution_count": 69,
   "metadata": {},
   "outputs": [],
   "source": [
    "# http://colingorrie.github.io/outlier-detection.html\n",
    "\n",
    "def outliers_iqr(ys):\n",
    "    quartile_1, quartile_3 = np.percentile(ys, [25, 75])\n",
    "    iqr = quartile_3 - quartile_1\n",
    "    lower_bound = quartile_1 - (iqr * 1.5)\n",
    "    upper_bound = quartile_3 + (iqr * 1.5)\n",
    "    return np.where((ys > upper_bound) | (ys < lower_bound))\n",
    "\n",
    "def outliers_z_score(ys):\n",
    "    threshold = 3\n",
    "\n",
    "    mean_y = np.mean(ys)\n",
    "    print(mean_y)\n",
    "    stdev_y = np.std(ys)\n",
    "    z_scores = [(y - mean_y) / stdev_y for y in ys]\n",
    "    return np.where(np.abs(z_scores) > threshold)\n",
    "\n",
    "\n",
    "def outliers_modified_z_score(ys):\n",
    "    threshold = 3.5\n",
    "\n",
    "    median_y = np.median(ys)\n",
    "    median_absolute_deviation_y = np.median([np.abs(y - median_y) for y in ys])\n",
    "    modified_z_scores = [0.6745 * (y - median_y) / median_absolute_deviation_y\n",
    "                         for y in ys]\n",
    "    return np.where(np.abs(modified_z_scores) > threshold)\n",
    "\n",
    "#------------#\n",
    "def train_test_mimax(df, remove_outliers=''):\n",
    "    \n",
    "    y = df[['stop_lat', 'stop_lon']]\n",
    "    X = df.drop(['stop_lat', 'stop_lon'], axis=1)\n",
    "    scaler = MinMaxScaler().fit(X)\n",
    "\n",
    "    #-- split train/test #X1, X2, y1, y2\n",
    "    X1, X2, y1, y2 = train_test_split(X, y, test_size=0.3, random_state=42)\n",
    "    \n",
    "    if(remove_outliers=='iqr'):\n",
    "        idx = outliers_iqr(X1.dist_perc)[0].tolist() \n",
    "        X1 = X1[~X1.index.isin(idx)]\n",
    "        y1 = y1[~y1.index.isin(idx)]\n",
    "    \n",
    "    if(remove_outliers=='zscore'):\n",
    "        idx = outliers_z_score(X1.dist_perc)[0].tolist() \n",
    "        X1 = X1[~X1.index.isin(idx)]\n",
    "        y1 = y1[~y1.index.isin(idx)]\n",
    "    \n",
    "    if(remove_outliers=='zscore_mod'):\n",
    "        idx = outliers_modified_z_score(X1.dist_perc)[0].tolist() \n",
    "        X1 = X1[~X1.index.isin(idx)]\n",
    "        y1 = y1[~y1.index.isin(idx)]\n",
    "        \n",
    "    #-- fit antes para treinar com todos dados e transform depois para pegar dados de \n",
    "    #-- treino com/sem outliers mas treinados com todos dados pra escala ficar igual\n",
    "    X1 = scaler.transform(X1)\n",
    "    X2 = scaler.transform(X2)\n",
    "    \n",
    "    return X1, X2, y1, y2"
   ]
  },
  {
   "cell_type": "markdown",
   "metadata": {},
   "source": [
    "**First test (all values)**"
   ]
  },
  {
   "cell_type": "code",
   "execution_count": 70,
   "metadata": {},
   "outputs": [
    {
     "name": "stdout",
     "output_type": "stream",
     "text": [
      "normal linear 3.7943694900064653 5.16685758992258\n",
      "normal ridge 4.826768224190662 7.120406616806063\n",
      "normal lasso 33.39964334808565 273.7373956627983\n",
      "multi lsvr 3.691853641423378 5.672771679215172\n",
      "normal KNN reg 4.089013319464276 5.672527741707434\n",
      "multi gboost 3.2725032218497843 8.499796205125504\n",
      "multi ada boost 3.8632928094458108 16.2143347486689\n",
      "normal rnd forest 2.944002064159514 5.366050869011718\n",
      "multi xgboost 3.2768882403204604 5.0564385057592105\n"
     ]
    },
    {
     "name": "stderr",
     "output_type": "stream",
     "text": [
      "Exception ignored in: <bound method DMatrix.__del__ of <xgboost.core.DMatrix object at 0x0000003BACA4F550>>\n",
      "Traceback (most recent call last):\n",
      "  File \"C:\\Users\\a46396\\AppData\\Local\\Continuum\\anaconda3\\lib\\site-packages\\xgboost\\core.py\", line 482, in __del__\n",
      "    if self.handle is not None:\n",
      "AttributeError: 'DMatrix' object has no attribute 'handle'\n"
     ]
    }
   ],
   "source": [
    "algs_test(*train_test_mimax(df))"
   ]
  },
  {
   "cell_type": "code",
   "execution_count": 76,
   "metadata": {},
   "outputs": [
    {
     "name": "stdout",
     "output_type": "stream",
     "text": [
      "normal linear 3.795721884344815 5.169455659748977\n",
      "normal ridge 4.82580457282064 7.118280071940594\n",
      "normal lasso 33.39964334808565 273.7373956627983\n",
      "multi lsvr 3.70924792248832 5.6810188879249415\n",
      "normal KNN reg 3.568725268940583 5.734704603777714\n",
      "multi gboost 3.2659645749874127 8.498499044474968\n",
      "multi ada boost 3.8113126508922885 4.643829697461416\n",
      "normal rnd forest 2.942860101756264 5.30356548465504\n",
      "multi xgboost 3.266316939274015 5.051243770495637\n"
     ]
    },
    {
     "name": "stderr",
     "output_type": "stream",
     "text": [
      "Exception ignored in: <bound method DMatrix.__del__ of <xgboost.core.DMatrix object at 0x0000003BB3EB4A90>>\n",
      "Traceback (most recent call last):\n",
      "  File \"C:\\Users\\a46396\\AppData\\Local\\Continuum\\anaconda3\\lib\\site-packages\\xgboost\\core.py\", line 482, in __del__\n",
      "    if self.handle is not None:\n",
      "AttributeError: 'DMatrix' object has no attribute 'handle'\n"
     ]
    }
   ],
   "source": [
    "# sem features categoricas\n",
    "algs_test(*train_test_mimax(df))"
   ]
  },
  {
   "cell_type": "markdown",
   "metadata": {},
   "source": [
    "**Removing outliers by distance using IQR**"
   ]
  },
  {
   "cell_type": "code",
   "execution_count": 7,
   "metadata": {},
   "outputs": [
    {
     "name": "stdout",
     "output_type": "stream",
     "text": [
      "normal linear 3.7994608185055982 5.169324210494789\n",
      "normal ridge 4.864851330406091 7.191031409572629\n",
      "normal lasso 33.33013020703441 273.7456499011859\n",
      "multi lsvr 3.7104789961152136 5.675317782440048\n",
      "normal KNN reg 4.091847060703542 5.6517915598768464\n",
      "multi gboost 3.283240063651977 9.874466442248034\n",
      "multi ada boost 3.8841356153195066 16.321563749047012\n",
      "normal rnd forest 2.9511996516451675 7.859806512681066\n",
      "multi xgboost 3.2797079635768696 5.108205812117166\n"
     ]
    },
    {
     "name": "stderr",
     "output_type": "stream",
     "text": [
      "Exception ignored in: <bound method DMatrix.__del__ of <xgboost.core.DMatrix object at 0x0000003BABBC4550>>\n",
      "Traceback (most recent call last):\n",
      "  File \"C:\\Users\\a46396\\AppData\\Local\\Continuum\\anaconda3\\lib\\site-packages\\xgboost\\core.py\", line 482, in __del__\n",
      "    if self.handle is not None:\n",
      "AttributeError: 'DMatrix' object has no attribute 'handle'\n"
     ]
    }
   ],
   "source": [
    "algs_test(*train_test_mimax(df, 'iqr'))"
   ]
  },
  {
   "cell_type": "markdown",
   "metadata": {},
   "source": [
    "**Removing outliers by distance using Z-Score**"
   ]
  },
  {
   "cell_type": "code",
   "execution_count": 8,
   "metadata": {},
   "outputs": [
    {
     "name": "stdout",
     "output_type": "stream",
     "text": [
      "5.413344857142967\n",
      "normal linear 3.7959447007924907 5.165570018422575\n",
      "normal ridge 4.829782203103702 7.125578541880782\n",
      "normal lasso 33.44289094100121 273.73226416601483\n",
      "multi lsvr 3.693475209870266 5.679699736418575\n",
      "normal KNN reg 4.089335190659967 5.672224862701648\n",
      "multi gboost 3.2727887580506776 7.3455606129823945\n",
      "multi ada boost 3.7837968592551503 16.231941395528896\n",
      "normal rnd forest 2.9396363804846013 5.402115547034383\n",
      "multi xgboost 3.2753886421055585 5.027189211676691\n"
     ]
    },
    {
     "name": "stderr",
     "output_type": "stream",
     "text": [
      "Exception ignored in: <bound method DMatrix.__del__ of <xgboost.core.DMatrix object at 0x0000003BABC85F28>>\n",
      "Traceback (most recent call last):\n",
      "  File \"C:\\Users\\a46396\\AppData\\Local\\Continuum\\anaconda3\\lib\\site-packages\\xgboost\\core.py\", line 482, in __del__\n",
      "    if self.handle is not None:\n",
      "AttributeError: 'DMatrix' object has no attribute 'handle'\n"
     ]
    }
   ],
   "source": [
    "algs_test(*train_test_mimax(df, 'zscore'))"
   ]
  },
  {
   "cell_type": "markdown",
   "metadata": {},
   "source": [
    "**Removing outliers by distance using Z-Score modified**"
   ]
  },
  {
   "cell_type": "code",
   "execution_count": 9,
   "metadata": {},
   "outputs": [
    {
     "name": "stdout",
     "output_type": "stream",
     "text": [
      "normal linear 3.7983740043591676 5.1693522981615745\n",
      "normal ridge 4.85907227165783 7.181538294760816\n",
      "normal lasso 33.40905143203647 273.7362827482903\n",
      "multi lsvr 3.7020345828925296 5.699824635823981\n",
      "normal KNN reg 4.091837725827818 5.652503759898603\n",
      "multi gboost 3.2689681088448346 7.742069152314645\n",
      "multi ada boost 3.8220556526982246 4.697962267777119\n",
      "normal rnd forest 2.9578621237774656 9.099826792432346\n",
      "multi xgboost 3.2685970231398436 5.087903724375411\n"
     ]
    },
    {
     "name": "stderr",
     "output_type": "stream",
     "text": [
      "Exception ignored in: <bound method DMatrix.__del__ of <xgboost.core.DMatrix object at 0x0000003BAB2A75F8>>\n",
      "Traceback (most recent call last):\n",
      "  File \"C:\\Users\\a46396\\AppData\\Local\\Continuum\\anaconda3\\lib\\site-packages\\xgboost\\core.py\", line 482, in __del__\n",
      "    if self.handle is not None:\n",
      "AttributeError: 'DMatrix' object has no attribute 'handle'\n"
     ]
    }
   ],
   "source": [
    "algs_test(*train_test_mimax(df, 'zscore_mod'))"
   ]
  },
  {
   "cell_type": "markdown",
   "metadata": {},
   "source": [
    "Remover os outliers não fez grandes mudanças no modelo. Os melhores foram os ensemble. Vamos usar o Gradient boost e Random Forest como vencedores.\n"
   ]
  },
  {
   "cell_type": "code",
   "execution_count": 8,
   "metadata": {},
   "outputs": [],
   "source": [
    "def haversine_scorer(y_real, y_pred):\n",
    "    concat = np.apply_along_axis(np.radians, 1, np.concatenate((np.array(y_real), y_pred), axis=1)) \n",
    "    return np.apply_along_axis(lambda x: 6371*(2*np.arcsin(np.sqrt((np.sin((x[3]-x[1])/2)**2 + np.cos(x[1])*np.cos(x[3])*np.sin((x[2]-x[0])/2)**2)))), 1, concat).mean()"
   ]
  },
  {
   "cell_type": "code",
   "execution_count": 9,
   "metadata": {},
   "outputs": [],
   "source": [
    "score_ = make_scorer(haversine_scorer, greater_is_better=False)"
   ]
  },
  {
   "cell_type": "code",
   "execution_count": 14,
   "metadata": {},
   "outputs": [],
   "source": [
    "param_grid = {'max_depth':[10, 40],\n",
    "              'min_samples_leaf':[50, 150]}\n",
    "\n",
    "gs = GridSearchCV(RandomForestRegressor(n_estimators=100, random_state=99, n_jobs=-1), param_grid=param_grid, n_jobs=-1, cv=10, scoring=score_, verbose=2)"
   ]
  },
  {
   "cell_type": "code",
   "execution_count": 15,
   "metadata": {},
   "outputs": [],
   "source": [
    "y = df[['stop_lat', 'stop_lon']]\n",
    "X = df.drop(['stop_lat', 'stop_lon'], axis=1)\n",
    "X = MinMaxScaler().fit_transform(X)"
   ]
  },
  {
   "cell_type": "code",
   "execution_count": null,
   "metadata": {},
   "outputs": [
    {
     "name": "stdout",
     "output_type": "stream",
     "text": [
      "Fitting 3 folds for each of 4 candidates, totalling 12 fits\n"
     ]
    }
   ],
   "source": [
    "gs.fit(X,y)"
   ]
  },
  {
   "cell_type": "markdown",
   "metadata": {},
   "source": [
    "#####################"
   ]
  },
  {
   "cell_type": "code",
   "execution_count": 12,
   "metadata": {
    "scrolled": true
   },
   "outputs": [
    {
     "name": "stdout",
     "output_type": "stream",
     "text": [
      "building tree 1 of 10\n",
      "building tree 2 of 10\n",
      "building tree 3 of 10\n",
      "building tree 4 of 10\n",
      "building tree 5 of 10\n",
      "building tree 6 of 10\n",
      "building tree 7 of 10\n",
      "building tree 8 of 10\n",
      "building tree 9 of 10\n",
      "building tree 10 of 10\n"
     ]
    },
    {
     "name": "stderr",
     "output_type": "stream",
     "text": [
      "[Parallel(n_jobs=-1)]: Done  10 out of  10 | elapsed:   16.9s finished\n"
     ]
    },
    {
     "data": {
      "text/plain": [
       "RandomForestRegressor(bootstrap=True, criterion='mse', max_depth=None,\n",
       "           max_features='auto', max_leaf_nodes=None,\n",
       "           min_impurity_decrease=0.0, min_impurity_split=None,\n",
       "           min_samples_leaf=1, min_samples_split=2,\n",
       "           min_weight_fraction_leaf=0.0, n_estimators=10, n_jobs=-1,\n",
       "           oob_score=False, random_state=99, verbose=2, warm_start=False)"
      ]
     },
     "execution_count": 12,
     "metadata": {},
     "output_type": "execute_result"
    }
   ],
   "source": [
    "y = df[['stop_lat', 'stop_lon']]\n",
    "X = df.drop(['stop_lat', 'stop_lon'], axis=1)\n",
    "X = MinMaxScaler().fit_transform(X)\n",
    "\n",
    "X1, X2, y1, y2 = train_test_split(X, y, test_size=0.3, random_state=42)\n",
    "\n",
    "reg = RandomForestRegressor(n_jobs=-1, random_state=99, verbose=2)\n",
    "reg.fit(X1, y1)"
   ]
  },
  {
   "cell_type": "code",
   "execution_count": 13,
   "metadata": {
    "scrolled": false
   },
   "outputs": [
    {
     "name": "stderr",
     "output_type": "stream",
     "text": [
      "[Parallel(n_jobs=4)]: Done  10 out of  10 | elapsed:    0.7s finished\n"
     ]
    },
    {
     "data": {
      "text/plain": [
       "-2.9426354585071417"
      ]
     },
     "execution_count": 13,
     "metadata": {},
     "output_type": "execute_result"
    }
   ],
   "source": [
    "score_(reg, X2, y2)"
   ]
  }
 ],
 "metadata": {
  "kernelspec": {
   "display_name": "Python 3",
   "language": "python",
   "name": "python3"
  },
  "language_info": {
   "codemirror_mode": {
    "name": "ipython",
    "version": 3
   },
   "file_extension": ".py",
   "mimetype": "text/x-python",
   "name": "python",
   "nbconvert_exporter": "python",
   "pygments_lexer": "ipython3",
   "version": "3.6.5"
  }
 },
 "nbformat": 4,
 "nbformat_minor": 2
}
