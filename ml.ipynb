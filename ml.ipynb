{
 "cells": [
  {
   "cell_type": "markdown",
   "metadata": {},
   "source": [
    "# Machine learning process\n",
    "\n",
    "- [Import data](#Import-data)\n",
    "- [Test some algorithms](#Test-some-algorithms)\n",
    "    - [First test - all values](#First-test---all-values)\n",
    "    - [Removing outliers by distance using IQR](#Removing-gps-points-outliers--by-distance-using-IQR)\n",
    "    - [Removing outliers by distance using Z-Score](#Removing-outliers-by-distance-using-Z-Score)\n",
    "    - [Removing outliers by distance using Z-Score modified](#Removing-outliers-by-distance-using-Z-Score-modified)\n",
    "- [GridSearchCV with Random Forest and Gradient Boost](#GridSearchCV-with-Random-Forest-and-Gradient-Boost)\n",
    "    - [Random forest](#Random-forest)\n",
    "    - [Gradient boost](#Gradient-boost)\n",
    "- [Train all data with Random forest](#Train-all-data-with-Random-forest)\n",
    "    - [Test (~2.56 km)](#Test)\n",
    "- [Ploting results](#Ploting-results)"
   ]
  },
  {
   "cell_type": "code",
   "execution_count": 1,
   "metadata": {},
   "outputs": [
    {
     "name": "stderr",
     "output_type": "stream",
     "text": [
      "C:\\Users\\Mark\\Anaconda3\\lib\\site-packages\\sklearn\\ensemble\\weight_boosting.py:29: DeprecationWarning: numpy.core.umath_tests is an internal NumPy module and should not be imported. It will be removed in a future NumPy release.\n",
      "  from numpy.core.umath_tests import inner1d\n"
     ]
    }
   ],
   "source": [
    "import pandas as pd\n",
    "import numpy as np\n",
    "import ast\n",
    "import datetime\n",
    "import holidays\n",
    "import pickle\n",
    "from math import radians, cos, sin, asin, sqrt\n",
    "import folium\n",
    "from folium.plugins import HeatMap\n",
    "import branca\n",
    "\n",
    "from sklearn import preprocessing\n",
    "from sklearn.preprocessing import OneHotEncoder\n",
    "from sklearn.preprocessing import MinMaxScaler\n",
    "from sklearn.model_selection import train_test_split\n",
    "from sklearn.linear_model import LinearRegression\n",
    "from sklearn.linear_model import Lasso\n",
    "from sklearn.linear_model import Ridge\n",
    "from sklearn.svm import LinearSVR\n",
    "from sklearn.neighbors import KNeighborsRegressor\n",
    "from sklearn.ensemble import GradientBoostingRegressor\n",
    "from sklearn.ensemble import RandomForestRegressor\n",
    "from sklearn.ensemble import AdaBoostRegressor\n",
    "from xgboost import XGBRegressor\n",
    "from sklearn.multioutput import MultiOutputRegressor\n",
    "from sklearn.model_selection import GridSearchCV\n",
    "from sklearn.metrics import make_scorer"
   ]
  },
  {
   "cell_type": "markdown",
   "metadata": {},
   "source": [
    "## Import data"
   ]
  },
  {
   "cell_type": "code",
   "execution_count": 2,
   "metadata": {},
   "outputs": [],
   "source": [
    "def trata_dados(df):\n",
    "    #--- Timestamp\n",
    "    df['month'] = df['timestamp'].dt.month\n",
    "    df['day'] = df['timestamp'].dt.day\n",
    "    #df['cat_hour'] = pd.cut(df.timestamp.dt.hour, [-1, 8, 16, 23], labels=[0,1,2])\n",
    "    df['hour'] = df.timestamp.dt.hour\n",
    "    df['fds_fer'] = df.timestamp.dt.dayofweek\n",
    "    df['fds_fer'] = df['fds_fer'].apply(lambda x: 1 if x==0 or x==6 else 0) #dom/sab = 0\n",
    "    for data in sorted(holidays.Portugal(years=[2013, 2014])): # add holidays\n",
    "        df['fds_fer'] = 1 if len(df[df.timestamp.dt.date==data])>0 else 0\n",
    "    \n",
    "    del df['timestamp']\n",
    "\n",
    "    #--- Call_type hot encode\n",
    "    df['call_type'] = preprocessing.LabelEncoder().fit_transform(df['call_type'])\n",
    "    enc = OneHotEncoder().fit_transform(df[['call_type']])\n",
    "    del df['call_type']\n",
    "    df['call_type_a'] = enc.toarray()[:,0]\n",
    "    df['call_type_b'] = enc.toarray()[:,1]\n",
    "    df['call_type_c'] = enc.toarray()[:,2]\n",
    "\n",
    "    #--- Fill na\n",
    "    df.fillna(-1, inplace=True)\n",
    "\n",
    "    return df"
   ]
  },
  {
   "cell_type": "code",
   "execution_count": 3,
   "metadata": {},
   "outputs": [],
   "source": [
    "def carrega_dados(dataset='', n_rows=None, test_df=False):\n",
    "    try:\n",
    "        if test_df==False:\n",
    "            usecols = ['CALL_TYPE', 'ORIGIN_CALL', 'ORIGIN_STAND', 'TAXI_ID', 'TIMESTAMP',\n",
    "                       'dist_perc', 'start_lat', 'start_lon', 'stop_lat', 'stop_lon']\n",
    "        else:\n",
    "            usecols = ['TRIP_ID','CALL_TYPE', 'ORIGIN_CALL', 'ORIGIN_STAND', 'TAXI_ID', 'TIMESTAMP',\n",
    "                       'dist_perc', 'start_lat', 'start_lon', 'stop_lat', 'stop_lon']\n",
    "\n",
    "        if n_rows is None:\n",
    "            df = pd.read_csv(dataset, usecols=usecols, parse_dates=True)\n",
    "        else:\n",
    "            df = pd.read_csv(dataset, usecols=usecols, parse_dates=True, nrows=n_rows)\n",
    "\n",
    "        # header in lower case\n",
    "        df.columns = df.columns.map(lambda x: x.lower())\n",
    "        #converting obj do timestamp\n",
    "        df.timestamp = pd.to_datetime(df.timestamp)\n",
    "\n",
    "        return trata_dados(df)\n",
    "    except Exception as e:\n",
    "        print(e)"
   ]
  },
  {
   "cell_type": "code",
   "execution_count": 12,
   "metadata": {
    "scrolled": true
   },
   "outputs": [],
   "source": [
    "df = carrega_dados('train_tratado_outliers_2.csv')"
   ]
  },
  {
   "cell_type": "code",
   "execution_count": 26,
   "metadata": {},
   "outputs": [
    {
     "data": {
      "text/html": [
       "<div>\n",
       "<style scoped>\n",
       "    .dataframe tbody tr th:only-of-type {\n",
       "        vertical-align: middle;\n",
       "    }\n",
       "\n",
       "    .dataframe tbody tr th {\n",
       "        vertical-align: top;\n",
       "    }\n",
       "\n",
       "    .dataframe thead th {\n",
       "        text-align: right;\n",
       "    }\n",
       "</style>\n",
       "<table border=\"1\" class=\"dataframe\">\n",
       "  <thead>\n",
       "    <tr style=\"text-align: right;\">\n",
       "      <th></th>\n",
       "      <th>origin_call</th>\n",
       "      <th>origin_stand</th>\n",
       "      <th>taxi_id</th>\n",
       "      <th>dist_perc</th>\n",
       "      <th>start_lat</th>\n",
       "      <th>start_lon</th>\n",
       "      <th>stop_lat</th>\n",
       "      <th>stop_lon</th>\n",
       "      <th>month</th>\n",
       "      <th>day</th>\n",
       "      <th>hour</th>\n",
       "      <th>fds_fer</th>\n",
       "      <th>call_type_a</th>\n",
       "      <th>call_type_b</th>\n",
       "      <th>call_type_c</th>\n",
       "    </tr>\n",
       "  </thead>\n",
       "  <tbody>\n",
       "    <tr>\n",
       "      <th>0</th>\n",
       "      <td>-1.0</td>\n",
       "      <td>-1.0</td>\n",
       "      <td>20000589</td>\n",
       "      <td>2.23</td>\n",
       "      <td>41.141412</td>\n",
       "      <td>-8.618643</td>\n",
       "      <td>41.154489</td>\n",
       "      <td>-8.630838</td>\n",
       "      <td>7</td>\n",
       "      <td>1</td>\n",
       "      <td>0</td>\n",
       "      <td>0</td>\n",
       "      <td>0.0</td>\n",
       "      <td>0.0</td>\n",
       "      <td>1.0</td>\n",
       "    </tr>\n",
       "    <tr>\n",
       "      <th>1</th>\n",
       "      <td>-1.0</td>\n",
       "      <td>7.0</td>\n",
       "      <td>20000596</td>\n",
       "      <td>3.46</td>\n",
       "      <td>41.159826</td>\n",
       "      <td>-8.639847</td>\n",
       "      <td>41.170671</td>\n",
       "      <td>-8.665740</td>\n",
       "      <td>7</td>\n",
       "      <td>1</td>\n",
       "      <td>0</td>\n",
       "      <td>0</td>\n",
       "      <td>0.0</td>\n",
       "      <td>1.0</td>\n",
       "      <td>0.0</td>\n",
       "    </tr>\n",
       "    <tr>\n",
       "      <th>2</th>\n",
       "      <td>-1.0</td>\n",
       "      <td>-1.0</td>\n",
       "      <td>20000320</td>\n",
       "      <td>17.63</td>\n",
       "      <td>41.140359</td>\n",
       "      <td>-8.612964</td>\n",
       "      <td>41.140530</td>\n",
       "      <td>-8.615970</td>\n",
       "      <td>7</td>\n",
       "      <td>1</td>\n",
       "      <td>0</td>\n",
       "      <td>0</td>\n",
       "      <td>0.0</td>\n",
       "      <td>0.0</td>\n",
       "      <td>1.0</td>\n",
       "    </tr>\n",
       "    <tr>\n",
       "      <th>3</th>\n",
       "      <td>-1.0</td>\n",
       "      <td>-1.0</td>\n",
       "      <td>20000520</td>\n",
       "      <td>7.97</td>\n",
       "      <td>41.151951</td>\n",
       "      <td>-8.574678</td>\n",
       "      <td>41.142915</td>\n",
       "      <td>-8.607996</td>\n",
       "      <td>7</td>\n",
       "      <td>1</td>\n",
       "      <td>0</td>\n",
       "      <td>0</td>\n",
       "      <td>0.0</td>\n",
       "      <td>0.0</td>\n",
       "      <td>1.0</td>\n",
       "    </tr>\n",
       "    <tr>\n",
       "      <th>4</th>\n",
       "      <td>-1.0</td>\n",
       "      <td>-1.0</td>\n",
       "      <td>20000337</td>\n",
       "      <td>4.81</td>\n",
       "      <td>41.180490</td>\n",
       "      <td>-8.645994</td>\n",
       "      <td>41.178087</td>\n",
       "      <td>-8.687268</td>\n",
       "      <td>7</td>\n",
       "      <td>1</td>\n",
       "      <td>0</td>\n",
       "      <td>0</td>\n",
       "      <td>0.0</td>\n",
       "      <td>0.0</td>\n",
       "      <td>1.0</td>\n",
       "    </tr>\n",
       "  </tbody>\n",
       "</table>\n",
       "</div>"
      ],
      "text/plain": [
       "   origin_call  origin_stand   taxi_id  dist_perc  start_lat  start_lon  \\\n",
       "0         -1.0          -1.0  20000589       2.23  41.141412  -8.618643   \n",
       "1         -1.0           7.0  20000596       3.46  41.159826  -8.639847   \n",
       "2         -1.0          -1.0  20000320      17.63  41.140359  -8.612964   \n",
       "3         -1.0          -1.0  20000520       7.97  41.151951  -8.574678   \n",
       "4         -1.0          -1.0  20000337       4.81  41.180490  -8.645994   \n",
       "\n",
       "    stop_lat  stop_lon  month  day  hour  fds_fer  call_type_a  call_type_b  \\\n",
       "0  41.154489 -8.630838      7    1     0        0          0.0          0.0   \n",
       "1  41.170671 -8.665740      7    1     0        0          0.0          1.0   \n",
       "2  41.140530 -8.615970      7    1     0        0          0.0          0.0   \n",
       "3  41.142915 -8.607996      7    1     0        0          0.0          0.0   \n",
       "4  41.178087 -8.687268      7    1     0        0          0.0          0.0   \n",
       "\n",
       "   call_type_c  \n",
       "0          1.0  \n",
       "1          0.0  \n",
       "2          1.0  \n",
       "3          1.0  \n",
       "4          1.0  "
      ]
     },
     "execution_count": 26,
     "metadata": {},
     "output_type": "execute_result"
    }
   ],
   "source": [
    "df.head()"
   ]
  },
  {
   "cell_type": "markdown",
   "metadata": {},
   "source": [
    "## Test some algorithms\n",
    "\n",
    "Testing some algorithms performance (speed, precision, etc)..."
   ]
  },
  {
   "cell_type": "code",
   "execution_count": 132,
   "metadata": {},
   "outputs": [],
   "source": [
    "# Runs some algorithms for compare\n",
    "\n",
    "def algs_test(X1, X2, y1, y2):\n",
    "\n",
    "    algs =[('linear', LinearRegression()),\n",
    "           ('ridge', Ridge(random_state=99)),\n",
    "           ('lasso', Lasso(random_state=99)), #lasso 142.7065081365015 561.2795889474457\n",
    "           ('lsvr', LinearSVR(random_state=99)),\n",
    "           ('KNN reg', KNeighborsRegressor()), #KNN reg 3.3861972620770264 3.5182287757352873\n",
    "           ('gboost', GradientBoostingRegressor(random_state=99)),\n",
    "           ('ada boost', AdaBoostRegressor(random_state=99)),\n",
    "           ('rnd forest', RandomForestRegressor(random_state=99)),\n",
    "           ('xgboost', XGBRegressor(random_state=99, n_jobs=-1))\n",
    "           ]\n",
    "\n",
    "    for name, alg in algs:\n",
    "        try:\n",
    "            alg.fit(X1, y1)\n",
    "            preds = alg.predict(X2)\n",
    "\n",
    "            concat = np.apply_along_axis(np.radians, 1, np.concatenate((np.array(y2), preds), axis=1)) \n",
    "            hav_dist = np.apply_along_axis(lambda x: 6371*(2*np.arcsin(np.sqrt((np.sin((x[3]-x[1])/2)**2 + np.cos(x[1])*np.cos(x[3])*np.sin((x[2]-x[0])/2)**2)))), 1, concat)\n",
    "\n",
    "            print('normal',name, hav_dist.mean(), hav_dist.std())\n",
    "        except: # if algorithm dont have native support to multioutput\n",
    "            mo = MultiOutputRegressor(alg, n_jobs=-1).fit(X1, y1)\n",
    "            preds = mo.predict(X2)\n",
    "\n",
    "            concat = np.apply_along_axis(np.radians, 1, np.concatenate((np.array(y2), preds), axis=1)) \n",
    "            hav_dist = np.apply_along_axis(lambda x: 6371*(2*np.arcsin(np.sqrt((np.sin((x[3]-x[1])/2)**2 + np.cos(x[1])*np.cos(x[3])*np.sin((x[2]-x[0])/2)**2)))), 1, concat)\n",
    "\n",
    "            print('multi',name, hav_dist.mean(), hav_dist.std())"
   ]
  },
  {
   "cell_type": "code",
   "execution_count": 133,
   "metadata": {},
   "outputs": [],
   "source": [
    "# (excelent) outliers reference: http://colingorrie.github.io/outlier-detection.html\n",
    "\n",
    "def outliers_iqr(ys):\n",
    "    quartile_1, quartile_3 = np.percentile(ys, [25, 75])\n",
    "    iqr = quartile_3 - quartile_1\n",
    "    lower_bound = quartile_1 - (iqr * 1.5)\n",
    "    upper_bound = quartile_3 + (iqr * 1.5)\n",
    "    return np.where((ys > upper_bound) | (ys < lower_bound))\n",
    "\n",
    "def outliers_z_score(ys):\n",
    "    threshold = 3\n",
    "\n",
    "    mean_y = np.mean(ys)\n",
    "    print(mean_y)\n",
    "    stdev_y = np.std(ys)\n",
    "    z_scores = [(y - mean_y) / stdev_y for y in ys]\n",
    "    return np.where(np.abs(z_scores) > threshold)\n",
    "\n",
    "\n",
    "def outliers_modified_z_score(ys):\n",
    "    threshold = 3.5\n",
    "\n",
    "    median_y = np.median(ys)\n",
    "    median_absolute_deviation_y = np.median([np.abs(y - median_y) for y in ys])\n",
    "    modified_z_scores = [0.6745 * (y - median_y) / median_absolute_deviation_y\n",
    "                         for y in ys]\n",
    "    return np.where(np.abs(modified_z_scores) > threshold)\n",
    "\n",
    "#------------#\n",
    "# Train and test stay in same scale, because this, \n",
    "# scaler.transform is invoked in final's method only.\n",
    "\n",
    "def train_test_mimax(df, remove_outliers=''):\n",
    "    \n",
    "    y = df[['stop_lon', 'stop_lat']]\n",
    "    X = df.drop(['stop_lon', 'stop_lat'], axis=1)\n",
    "    scaler = MinMaxScaler().fit(X)\n",
    "\n",
    "    #-- split train/test #X1, X2, y1, y2\n",
    "    X1, X2, y1, y2 = train_test_split(X, y, test_size=0.3, random_state=42)\n",
    "    \n",
    "    if(remove_outliers=='iqr'):\n",
    "        idx = outliers_iqr(X1.dist_perc)[0].tolist() \n",
    "        X1 = X1[~X1.index.isin(idx)]\n",
    "        y1 = y1[~y1.index.isin(idx)]\n",
    "    \n",
    "    if(remove_outliers=='zscore'):\n",
    "        idx = outliers_z_score(X1.dist_perc)[0].tolist() \n",
    "        X1 = X1[~X1.index.isin(idx)]\n",
    "        y1 = y1[~y1.index.isin(idx)]\n",
    "    \n",
    "    if(remove_outliers=='zscore_mod'):\n",
    "        idx = outliers_modified_z_score(X1.dist_perc)[0].tolist() \n",
    "        X1 = X1[~X1.index.isin(idx)]\n",
    "        y1 = y1[~y1.index.isin(idx)]\n",
    "        \n",
    "    X1 = scaler.transform(X1)\n",
    "    X2 = scaler.transform(X2)\n",
    "    \n",
    "    return X1, X2, y1, y2"
   ]
  },
  {
   "cell_type": "markdown",
   "metadata": {},
   "source": [
    "### First test - all values\n",
    "\n",
    "Testing with outliers"
   ]
  },
  {
   "cell_type": "code",
   "execution_count": 135,
   "metadata": {
    "scrolled": true
   },
   "outputs": [
    {
     "name": "stdout",
     "output_type": "stream",
     "text": [
      "normal linear 3.242526950006376 4.572296738247557\n",
      "normal ridge 5.035208578741894 7.074214279575095\n",
      "normal lasso 36.324779071030704 303.92947601040646\n",
      "multi lsvr 3.1863218127999597 4.762258288342083\n",
      "normal KNN reg 3.4755950381935605 6.459272728794591\n",
      "multi gboost 2.7746041839015096 3.200689795563214\n",
      "multi ada boost 3.146199186825982 3.406473200539824\n",
      "normal rnd forest 2.5479666072422242 3.406634550586585\n",
      "multi xgboost 2.7918836267241756 3.2605204176922067\n"
     ]
    },
    {
     "name": "stderr",
     "output_type": "stream",
     "text": [
      "Exception ignored in: <bound method DMatrix.__del__ of <xgboost.core.DMatrix object at 0x000000CF92D16438>>\n",
      "Traceback (most recent call last):\n",
      "  File \"C:\\Users\\a46396\\AppData\\Local\\Continuum\\anaconda3\\lib\\site-packages\\xgboost\\core.py\", line 482, in __del__\n",
      "    if self.handle is not None:\n",
      "AttributeError: 'DMatrix' object has no attribute 'handle'\n"
     ]
    }
   ],
   "source": [
    "algs_test(*train_test_mimax(carrega_dados('train_tratado_outliers_2.csv', n_rows=100000)))"
   ]
  },
  {
   "cell_type": "markdown",
   "metadata": {},
   "source": [
    "### Removing outliers  by distance using IQR"
   ]
  },
  {
   "cell_type": "code",
   "execution_count": 136,
   "metadata": {},
   "outputs": [
    {
     "name": "stdout",
     "output_type": "stream",
     "text": [
      "normal linear 3.2425833774315493 4.575463792948822\n",
      "normal ridge 5.065930261976431 7.113446517186023\n",
      "normal lasso 36.4648121986655 303.9111462474312\n",
      "multi lsvr 3.1932358868652537 4.7679315770933\n",
      "normal KNN reg 3.512267713886255 11.501153300541784\n",
      "multi gboost 2.7720885351485074 3.192751752980376\n",
      "multi ada boost 3.178256252983925 3.4851434820065754\n",
      "normal rnd forest 2.5530415257189283 3.3677081978555594\n",
      "multi xgboost 2.7990510140260403 3.254266204733062\n"
     ]
    },
    {
     "name": "stderr",
     "output_type": "stream",
     "text": [
      "Exception ignored in: <bound method DMatrix.__del__ of <xgboost.core.DMatrix object at 0x000000CF92CE5FD0>>\n",
      "Traceback (most recent call last):\n",
      "  File \"C:\\Users\\a46396\\AppData\\Local\\Continuum\\anaconda3\\lib\\site-packages\\xgboost\\core.py\", line 482, in __del__\n",
      "    if self.handle is not None:\n",
      "AttributeError: 'DMatrix' object has no attribute 'handle'\n"
     ]
    }
   ],
   "source": [
    "algs_test(*train_test_mimax(carrega_dados('train_tratado_outliers_2.csv', n_rows=100000), 'iqr'))"
   ]
  },
  {
   "cell_type": "markdown",
   "metadata": {},
   "source": [
    "### Removing outliers by distance using Z-Score"
   ]
  },
  {
   "cell_type": "code",
   "execution_count": 137,
   "metadata": {},
   "outputs": [
    {
     "name": "stdout",
     "output_type": "stream",
     "text": [
      "5.524522999999997\n",
      "normal linear 3.2436593040954613 4.574459667786016\n",
      "normal ridge 5.039750150854115 7.079425583180473\n",
      "normal lasso 36.28555882688959 303.93460837250666\n",
      "multi lsvr 3.1662636567340985 4.768181989539964\n",
      "normal KNN reg 3.507742216388956 11.5014849400449\n",
      "multi gboost 2.7784649464210047 3.215223893740343\n",
      "multi ada boost 8.09105263027827 6.628493068706677\n",
      "normal rnd forest 2.5466122160199474 3.3476191777671227\n",
      "multi xgboost 2.7912804981779225 3.227982029127283\n"
     ]
    },
    {
     "name": "stderr",
     "output_type": "stream",
     "text": [
      "Exception ignored in: <bound method DMatrix.__del__ of <xgboost.core.DMatrix object at 0x000000CF945B3C88>>\n",
      "Traceback (most recent call last):\n",
      "  File \"C:\\Users\\a46396\\AppData\\Local\\Continuum\\anaconda3\\lib\\site-packages\\xgboost\\core.py\", line 482, in __del__\n",
      "    if self.handle is not None:\n",
      "AttributeError: 'DMatrix' object has no attribute 'handle'\n"
     ]
    }
   ],
   "source": [
    "algs_test(*train_test_mimax(carrega_dados('train_tratado_outliers_2.csv', n_rows=100000), 'zscore'))"
   ]
  },
  {
   "cell_type": "markdown",
   "metadata": {},
   "source": [
    "### Removing outliers by distance using Z-Score modified"
   ]
  },
  {
   "cell_type": "code",
   "execution_count": 138,
   "metadata": {},
   "outputs": [
    {
     "name": "stdout",
     "output_type": "stream",
     "text": [
      "normal linear 3.242174052228836 4.573566803728244\n",
      "normal ridge 5.061994285006496 7.10780595989326\n",
      "normal lasso 36.48563984433075 303.90842226180456\n",
      "multi lsvr 3.1965189978395223 4.778043385957267\n",
      "normal KNN reg 3.5118850508358066 11.501055786030161\n",
      "multi gboost 2.7727059251229975 3.2011773458718835\n",
      "multi ada boost 8.673090286200152 5.762570196449435\n",
      "normal rnd forest 2.558399525354379 3.374796435729142\n",
      "multi xgboost 2.8103219355324685 3.2733977711563074\n"
     ]
    },
    {
     "name": "stderr",
     "output_type": "stream",
     "text": [
      "Exception ignored in: <bound method DMatrix.__del__ of <xgboost.core.DMatrix object at 0x000000CFCC98C940>>\n",
      "Traceback (most recent call last):\n",
      "  File \"C:\\Users\\a46396\\AppData\\Local\\Continuum\\anaconda3\\lib\\site-packages\\xgboost\\core.py\", line 482, in __del__\n",
      "    if self.handle is not None:\n",
      "AttributeError: 'DMatrix' object has no attribute 'handle'\n"
     ]
    }
   ],
   "source": [
    "algs_test(*train_test_mimax(carrega_dados('train_tratado_outliers_2.csv', n_rows=100000), 'zscore_mod'))"
   ]
  },
  {
   "cell_type": "markdown",
   "metadata": {},
   "source": [
    "Removing outliers and training multiple algorithms with default parameters did not make much difference.\n",
    "\n",
    "To have a greater variance, we will use the outliers and the ensemble algorithms (Gradient boost and Random Forest):"
   ]
  },
  {
   "cell_type": "markdown",
   "metadata": {},
   "source": [
    "## GridSearchCV with Random Forest and Gradient Boost\n",
    "\n",
    "Testing over 100k lines..."
   ]
  },
  {
   "cell_type": "code",
   "execution_count": 15,
   "metadata": {},
   "outputs": [],
   "source": [
    "\"\"\"\n",
    "Haversine is the distance between 2 points in earth.\n",
    "This function is in sklearn.make_scorer format.\n",
    "\"\"\"\n",
    "\n",
    "# lon1, lat1, lon2, lat2\n",
    "#  0     1     2     3\n",
    "def haversine_scorer(y_real, y_pred):\n",
    "    concat = np.apply_along_axis(np.radians, 1, np.concatenate((np.array(y_real), y_pred), axis=1)) \n",
    "    return np.apply_along_axis(lambda x: 6371*(2*np.arcsin(np.sqrt((np.sin((x[3]-x[1])/2)**2 + np.cos(x[1])*np.cos(x[3])*np.sin((x[2]-x[0])/2)**2)))), 1, concat).mean()"
   ]
  },
  {
   "cell_type": "code",
   "execution_count": 16,
   "metadata": {},
   "outputs": [],
   "source": [
    "score_ = make_scorer(haversine_scorer, greater_is_better=False)"
   ]
  },
  {
   "cell_type": "code",
   "execution_count": 39,
   "metadata": {},
   "outputs": [],
   "source": [
    "y = df[['stop_lon', 'stop_lat']]\n",
    "X = df.drop(['stop_lon', 'stop_lat'], axis=1)\n",
    "X = MinMaxScaler().fit_transform(X)"
   ]
  },
  {
   "cell_type": "markdown",
   "metadata": {},
   "source": [
    "### Random forest"
   ]
  },
  {
   "cell_type": "code",
   "execution_count": 32,
   "metadata": {
    "scrolled": true
   },
   "outputs": [
    {
     "name": "stdout",
     "output_type": "stream",
     "text": [
      "Fitting 10 folds for each of 4 candidates, totalling 40 fits\n",
      "[CV] max_depth=10, min_samples_leaf=50 ...............................\n",
      "[CV] ................ max_depth=10, min_samples_leaf=50, total=  41.7s\n",
      "[CV] max_depth=10, min_samples_leaf=50 ...............................\n"
     ]
    },
    {
     "name": "stderr",
     "output_type": "stream",
     "text": [
      "[Parallel(n_jobs=1)]: Done   1 out of   1 | elapsed:   46.4s remaining:    0.0s\n"
     ]
    },
    {
     "name": "stdout",
     "output_type": "stream",
     "text": [
      "[CV] ................ max_depth=10, min_samples_leaf=50, total=  41.3s\n",
      "[CV] max_depth=10, min_samples_leaf=50 ...............................\n",
      "[CV] ................ max_depth=10, min_samples_leaf=50, total=  41.3s\n",
      "[CV] max_depth=10, min_samples_leaf=50 ...............................\n",
      "[CV] ................ max_depth=10, min_samples_leaf=50, total=  41.2s\n",
      "[CV] max_depth=10, min_samples_leaf=50 ...............................\n",
      "[CV] ................ max_depth=10, min_samples_leaf=50, total=  41.2s\n",
      "[CV] max_depth=10, min_samples_leaf=50 ...............................\n",
      "[CV] ................ max_depth=10, min_samples_leaf=50, total=  42.1s\n",
      "[CV] max_depth=10, min_samples_leaf=50 ...............................\n",
      "[CV] ................ max_depth=10, min_samples_leaf=50, total=  41.8s\n",
      "[CV] max_depth=10, min_samples_leaf=50 ...............................\n",
      "[CV] ................ max_depth=10, min_samples_leaf=50, total=  41.6s\n",
      "[CV] max_depth=10, min_samples_leaf=50 ...............................\n",
      "[CV] ................ max_depth=10, min_samples_leaf=50, total=  41.3s\n",
      "[CV] max_depth=10, min_samples_leaf=50 ...............................\n",
      "[CV] ................ max_depth=10, min_samples_leaf=50, total=  43.7s\n",
      "[CV] max_depth=10, min_samples_leaf=150 ..............................\n",
      "[CV] ............... max_depth=10, min_samples_leaf=150, total=  40.4s\n",
      "[CV] max_depth=10, min_samples_leaf=150 ..............................\n",
      "[CV] ............... max_depth=10, min_samples_leaf=150, total=  40.1s\n",
      "[CV] max_depth=10, min_samples_leaf=150 ..............................\n",
      "[CV] ............... max_depth=10, min_samples_leaf=150, total=  40.1s\n",
      "[CV] max_depth=10, min_samples_leaf=150 ..............................\n",
      "[CV] ............... max_depth=10, min_samples_leaf=150, total=  40.3s\n",
      "[CV] max_depth=10, min_samples_leaf=150 ..............................\n",
      "[CV] ............... max_depth=10, min_samples_leaf=150, total=  40.4s\n",
      "[CV] max_depth=10, min_samples_leaf=150 ..............................\n",
      "[CV] ............... max_depth=10, min_samples_leaf=150, total=  40.2s\n",
      "[CV] max_depth=10, min_samples_leaf=150 ..............................\n",
      "[CV] ............... max_depth=10, min_samples_leaf=150, total=  40.0s\n",
      "[CV] max_depth=10, min_samples_leaf=150 ..............................\n",
      "[CV] ............... max_depth=10, min_samples_leaf=150, total=  40.3s\n",
      "[CV] max_depth=10, min_samples_leaf=150 ..............................\n",
      "[CV] ............... max_depth=10, min_samples_leaf=150, total=  40.5s\n",
      "[CV] max_depth=10, min_samples_leaf=150 ..............................\n",
      "[CV] ............... max_depth=10, min_samples_leaf=150, total=  40.6s\n",
      "[CV] max_depth=40, min_samples_leaf=50 ...............................\n",
      "[CV] ................ max_depth=40, min_samples_leaf=50, total=  53.5s\n",
      "[CV] max_depth=40, min_samples_leaf=50 ...............................\n",
      "[CV] ................ max_depth=40, min_samples_leaf=50, total=  53.7s\n",
      "[CV] max_depth=40, min_samples_leaf=50 ...............................\n",
      "[CV] ................ max_depth=40, min_samples_leaf=50, total=  53.7s\n",
      "[CV] max_depth=40, min_samples_leaf=50 ...............................\n",
      "[CV] ................ max_depth=40, min_samples_leaf=50, total=  54.9s\n",
      "[CV] max_depth=40, min_samples_leaf=50 ...............................\n",
      "[CV] ................ max_depth=40, min_samples_leaf=50, total=  53.8s\n",
      "[CV] max_depth=40, min_samples_leaf=50 ...............................\n",
      "[CV] ................ max_depth=40, min_samples_leaf=50, total=  54.1s\n",
      "[CV] max_depth=40, min_samples_leaf=50 ...............................\n",
      "[CV] ................ max_depth=40, min_samples_leaf=50, total=  53.6s\n",
      "[CV] max_depth=40, min_samples_leaf=50 ...............................\n",
      "[CV] ................ max_depth=40, min_samples_leaf=50, total=  53.8s\n",
      "[CV] max_depth=40, min_samples_leaf=50 ...............................\n",
      "[CV] ................ max_depth=40, min_samples_leaf=50, total=  53.9s\n",
      "[CV] max_depth=40, min_samples_leaf=50 ...............................\n",
      "[CV] ................ max_depth=40, min_samples_leaf=50, total=  53.8s\n",
      "[CV] max_depth=40, min_samples_leaf=150 ..............................\n",
      "[CV] ............... max_depth=40, min_samples_leaf=150, total=  46.2s\n",
      "[CV] max_depth=40, min_samples_leaf=150 ..............................\n",
      "[CV] ............... max_depth=40, min_samples_leaf=150, total=  46.1s\n",
      "[CV] max_depth=40, min_samples_leaf=150 ..............................\n",
      "[CV] ............... max_depth=40, min_samples_leaf=150, total=  45.9s\n",
      "[CV] max_depth=40, min_samples_leaf=150 ..............................\n",
      "[CV] ............... max_depth=40, min_samples_leaf=150, total=  46.6s\n",
      "[CV] max_depth=40, min_samples_leaf=150 ..............................\n",
      "[CV] ............... max_depth=40, min_samples_leaf=150, total=  45.9s\n",
      "[CV] max_depth=40, min_samples_leaf=150 ..............................\n",
      "[CV] ............... max_depth=40, min_samples_leaf=150, total=  46.5s\n",
      "[CV] max_depth=40, min_samples_leaf=150 ..............................\n",
      "[CV] ............... max_depth=40, min_samples_leaf=150, total=  45.9s\n",
      "[CV] max_depth=40, min_samples_leaf=150 ..............................\n",
      "[CV] ............... max_depth=40, min_samples_leaf=150, total=  46.0s\n",
      "[CV] max_depth=40, min_samples_leaf=150 ..............................\n",
      "[CV] ............... max_depth=40, min_samples_leaf=150, total=  46.3s\n",
      "[CV] max_depth=40, min_samples_leaf=150 ..............................\n",
      "[CV] ............... max_depth=40, min_samples_leaf=150, total=  46.4s\n"
     ]
    },
    {
     "name": "stderr",
     "output_type": "stream",
     "text": [
      "[Parallel(n_jobs=1)]: Done  40 out of  40 | elapsed: 33.7min finished\n"
     ]
    },
    {
     "data": {
      "text/plain": [
       "GridSearchCV(cv=10, error_score='raise',\n",
       "       estimator=RandomForestRegressor(bootstrap=True, criterion='mse', max_depth=None,\n",
       "           max_features='auto', max_leaf_nodes=None,\n",
       "           min_impurity_decrease=0.0, min_impurity_split=None,\n",
       "           min_samples_leaf=1, min_samples_split=2,\n",
       "           min_weight_fraction_leaf=0.0, n_estimators=100, n_jobs=1,\n",
       "           oob_score=False, random_state=99, verbose=0, warm_start=False),\n",
       "       fit_params=None, iid=True, n_jobs=1,\n",
       "       param_grid={'max_depth': [10, 40], 'min_samples_leaf': [50, 150]},\n",
       "       pre_dispatch='2*n_jobs', refit=True, return_train_score='warn',\n",
       "       scoring=make_scorer(haversine_scorer, greater_is_better=False),\n",
       "       verbose=2)"
      ]
     },
     "execution_count": 32,
     "metadata": {},
     "output_type": "execute_result"
    }
   ],
   "source": [
    "\"\"\"\n",
    "n_jobs=-1 freeze the screen. Start e thereafter CPU processing is down do 0%\n",
    "I found this: https://github.com/scikit-learn/scikit-learn/issues/2889\n",
    "There seems to be no solution!\n",
    "\n",
    "Because this, n_jobs is auto (1). Take loooong time to train data.\n",
    "\"\"\"\n",
    "param_grid = {'max_depth':[10, 40],\n",
    "              'min_samples_leaf':[50, 150]}\n",
    "\n",
    "gs = GridSearchCV(RandomForestRegressor(n_estimators=100, random_state=99), param_grid=param_grid, cv=10, scoring=score_, verbose=2)\n",
    "\n",
    "gs.fit(X,y)"
   ]
  },
  {
   "cell_type": "code",
   "execution_count": 35,
   "metadata": {},
   "outputs": [
    {
     "data": {
      "text/plain": [
       "-2.9978036640710832"
      ]
     },
     "execution_count": 35,
     "metadata": {},
     "output_type": "execute_result"
    }
   ],
   "source": [
    "gs.best_score_"
   ]
  },
  {
   "cell_type": "code",
   "execution_count": 37,
   "metadata": {},
   "outputs": [
    {
     "data": {
      "text/plain": [
       "{'max_depth': 40, 'min_samples_leaf': 50}"
      ]
     },
     "execution_count": 37,
     "metadata": {},
     "output_type": "execute_result"
    }
   ],
   "source": [
    "gs.best_params_"
   ]
  },
  {
   "cell_type": "markdown",
   "metadata": {},
   "source": [
    "### Gradient boost"
   ]
  },
  {
   "cell_type": "code",
   "execution_count": 48,
   "metadata": {
    "scrolled": true
   },
   "outputs": [
    {
     "name": "stdout",
     "output_type": "stream",
     "text": [
      "Fitting 10 folds for each of 4 candidates, totalling 40 fits\n",
      "[CV] estimator__min_samples_leaf=50, estimator__min_samples_split=10 .\n",
      "[CV]  estimator__min_samples_leaf=50, estimator__min_samples_split=10, total=  53.2s\n",
      "[CV] estimator__min_samples_leaf=50, estimator__min_samples_split=10 .\n"
     ]
    },
    {
     "name": "stderr",
     "output_type": "stream",
     "text": [
      "[Parallel(n_jobs=1)]: Done   1 out of   1 | elapsed:   58.0s remaining:    0.0s\n"
     ]
    },
    {
     "name": "stdout",
     "output_type": "stream",
     "text": [
      "[CV]  estimator__min_samples_leaf=50, estimator__min_samples_split=10, total=  52.9s\n",
      "[CV] estimator__min_samples_leaf=50, estimator__min_samples_split=10 .\n",
      "[CV]  estimator__min_samples_leaf=50, estimator__min_samples_split=10, total=  54.3s\n",
      "[CV] estimator__min_samples_leaf=50, estimator__min_samples_split=10 .\n",
      "[CV]  estimator__min_samples_leaf=50, estimator__min_samples_split=10, total=  51.5s\n",
      "[CV] estimator__min_samples_leaf=50, estimator__min_samples_split=10 .\n",
      "[CV]  estimator__min_samples_leaf=50, estimator__min_samples_split=10, total=  51.5s\n",
      "[CV] estimator__min_samples_leaf=50, estimator__min_samples_split=10 .\n",
      "[CV]  estimator__min_samples_leaf=50, estimator__min_samples_split=10, total=  51.5s\n",
      "[CV] estimator__min_samples_leaf=50, estimator__min_samples_split=10 .\n",
      "[CV]  estimator__min_samples_leaf=50, estimator__min_samples_split=10, total=  53.0s\n",
      "[CV] estimator__min_samples_leaf=50, estimator__min_samples_split=10 .\n",
      "[CV]  estimator__min_samples_leaf=50, estimator__min_samples_split=10, total=  53.8s\n",
      "[CV] estimator__min_samples_leaf=50, estimator__min_samples_split=10 .\n",
      "[CV]  estimator__min_samples_leaf=50, estimator__min_samples_split=10, total=  50.2s\n",
      "[CV] estimator__min_samples_leaf=50, estimator__min_samples_split=10 .\n",
      "[CV]  estimator__min_samples_leaf=50, estimator__min_samples_split=10, total=  50.1s\n",
      "[CV] estimator__min_samples_leaf=50, estimator__min_samples_split=50 .\n",
      "[CV]  estimator__min_samples_leaf=50, estimator__min_samples_split=50, total=  49.4s\n",
      "[CV] estimator__min_samples_leaf=50, estimator__min_samples_split=50 .\n",
      "[CV]  estimator__min_samples_leaf=50, estimator__min_samples_split=50, total=  49.2s\n",
      "[CV] estimator__min_samples_leaf=50, estimator__min_samples_split=50 .\n",
      "[CV]  estimator__min_samples_leaf=50, estimator__min_samples_split=50, total=  49.2s\n",
      "[CV] estimator__min_samples_leaf=50, estimator__min_samples_split=50 .\n",
      "[CV]  estimator__min_samples_leaf=50, estimator__min_samples_split=50, total=  48.6s\n",
      "[CV] estimator__min_samples_leaf=50, estimator__min_samples_split=50 .\n",
      "[CV]  estimator__min_samples_leaf=50, estimator__min_samples_split=50, total=  49.7s\n",
      "[CV] estimator__min_samples_leaf=50, estimator__min_samples_split=50 .\n",
      "[CV]  estimator__min_samples_leaf=50, estimator__min_samples_split=50, total=  49.2s\n",
      "[CV] estimator__min_samples_leaf=50, estimator__min_samples_split=50 .\n",
      "[CV]  estimator__min_samples_leaf=50, estimator__min_samples_split=50, total=  49.7s\n",
      "[CV] estimator__min_samples_leaf=50, estimator__min_samples_split=50 .\n",
      "[CV]  estimator__min_samples_leaf=50, estimator__min_samples_split=50, total=  49.1s\n",
      "[CV] estimator__min_samples_leaf=50, estimator__min_samples_split=50 .\n",
      "[CV]  estimator__min_samples_leaf=50, estimator__min_samples_split=50, total=  49.3s\n",
      "[CV] estimator__min_samples_leaf=50, estimator__min_samples_split=50 .\n",
      "[CV]  estimator__min_samples_leaf=50, estimator__min_samples_split=50, total=  49.2s\n",
      "[CV] estimator__min_samples_leaf=150, estimator__min_samples_split=10 \n",
      "[CV]  estimator__min_samples_leaf=150, estimator__min_samples_split=10, total=  46.8s\n",
      "[CV] estimator__min_samples_leaf=150, estimator__min_samples_split=10 \n",
      "[CV]  estimator__min_samples_leaf=150, estimator__min_samples_split=10, total=  47.4s\n",
      "[CV] estimator__min_samples_leaf=150, estimator__min_samples_split=10 \n",
      "[CV]  estimator__min_samples_leaf=150, estimator__min_samples_split=10, total=  46.5s\n",
      "[CV] estimator__min_samples_leaf=150, estimator__min_samples_split=10 \n",
      "[CV]  estimator__min_samples_leaf=150, estimator__min_samples_split=10, total=  46.8s\n",
      "[CV] estimator__min_samples_leaf=150, estimator__min_samples_split=10 \n",
      "[CV]  estimator__min_samples_leaf=150, estimator__min_samples_split=10, total=  47.2s\n",
      "[CV] estimator__min_samples_leaf=150, estimator__min_samples_split=10 \n",
      "[CV]  estimator__min_samples_leaf=150, estimator__min_samples_split=10, total=  48.0s\n",
      "[CV] estimator__min_samples_leaf=150, estimator__min_samples_split=10 \n",
      "[CV]  estimator__min_samples_leaf=150, estimator__min_samples_split=10, total=  47.4s\n",
      "[CV] estimator__min_samples_leaf=150, estimator__min_samples_split=10 \n",
      "[CV]  estimator__min_samples_leaf=150, estimator__min_samples_split=10, total=  47.3s\n",
      "[CV] estimator__min_samples_leaf=150, estimator__min_samples_split=10 \n",
      "[CV]  estimator__min_samples_leaf=150, estimator__min_samples_split=10, total=  47.2s\n",
      "[CV] estimator__min_samples_leaf=150, estimator__min_samples_split=10 \n",
      "[CV]  estimator__min_samples_leaf=150, estimator__min_samples_split=10, total=  47.4s\n",
      "[CV] estimator__min_samples_leaf=150, estimator__min_samples_split=50 \n",
      "[CV]  estimator__min_samples_leaf=150, estimator__min_samples_split=50, total=  47.4s\n",
      "[CV] estimator__min_samples_leaf=150, estimator__min_samples_split=50 \n",
      "[CV]  estimator__min_samples_leaf=150, estimator__min_samples_split=50, total=  50.4s\n",
      "[CV] estimator__min_samples_leaf=150, estimator__min_samples_split=50 \n",
      "[CV]  estimator__min_samples_leaf=150, estimator__min_samples_split=50, total=  48.5s\n",
      "[CV] estimator__min_samples_leaf=150, estimator__min_samples_split=50 \n",
      "[CV]  estimator__min_samples_leaf=150, estimator__min_samples_split=50, total=  48.8s\n",
      "[CV] estimator__min_samples_leaf=150, estimator__min_samples_split=50 \n",
      "[CV]  estimator__min_samples_leaf=150, estimator__min_samples_split=50, total=  48.7s\n",
      "[CV] estimator__min_samples_leaf=150, estimator__min_samples_split=50 \n",
      "[CV]  estimator__min_samples_leaf=150, estimator__min_samples_split=50, total=  48.9s\n",
      "[CV] estimator__min_samples_leaf=150, estimator__min_samples_split=50 \n",
      "[CV]  estimator__min_samples_leaf=150, estimator__min_samples_split=50, total=  48.9s\n",
      "[CV] estimator__min_samples_leaf=150, estimator__min_samples_split=50 \n",
      "[CV]  estimator__min_samples_leaf=150, estimator__min_samples_split=50, total=  49.0s\n",
      "[CV] estimator__min_samples_leaf=150, estimator__min_samples_split=50 \n",
      "[CV]  estimator__min_samples_leaf=150, estimator__min_samples_split=50, total=  48.9s\n",
      "[CV] estimator__min_samples_leaf=150, estimator__min_samples_split=50 \n",
      "[CV]  estimator__min_samples_leaf=150, estimator__min_samples_split=50, total=  49.0s\n"
     ]
    },
    {
     "name": "stderr",
     "output_type": "stream",
     "text": [
      "[Parallel(n_jobs=1)]: Done  40 out of  40 | elapsed: 36.1min finished\n"
     ]
    },
    {
     "data": {
      "text/plain": [
       "GridSearchCV(cv=10, error_score='raise',\n",
       "       estimator=MultiOutputRegressor(estimator=GradientBoostingRegressor(alpha=0.9, criterion='friedman_mse', init=None,\n",
       "             learning_rate=0.1, loss='ls', max_depth=8, max_features=None,\n",
       "             max_leaf_nodes=None, min_impurity_decrease=0.0,\n",
       "             min_impurity_split=None, min_samples...to', random_state=99,\n",
       "             subsample=0.8, verbose=0, warm_start=False),\n",
       "           n_jobs=1),\n",
       "       fit_params=None, iid=True, n_jobs=1,\n",
       "       param_grid={'estimator__min_samples_split': [10, 50], 'estimator__min_samples_leaf': [50, 150]},\n",
       "       pre_dispatch='2*n_jobs', refit=True, return_train_score='warn',\n",
       "       scoring=make_scorer(haversine_scorer, greater_is_better=False),\n",
       "       verbose=2)"
      ]
     },
     "execution_count": 48,
     "metadata": {},
     "output_type": "execute_result"
    }
   ],
   "source": [
    "param_grid = {'estimator__min_samples_split':[10, 50],\n",
    "              'estimator__min_samples_leaf':[50, 150]}\n",
    "\n",
    "gb = GradientBoostingRegressor(random_state=99, learning_rate=0.1, subsample=0.8, max_depth=8)\n",
    "\n",
    "gs = GridSearchCV(MultiOutputRegressor(gb), param_grid=param_grid, cv=10, scoring=score_, verbose=2)\n",
    "\n",
    "gs.fit(X,y)"
   ]
  },
  {
   "cell_type": "code",
   "execution_count": 54,
   "metadata": {},
   "outputs": [
    {
     "data": {
      "text/plain": [
       "-3.063807160105668"
      ]
     },
     "execution_count": 54,
     "metadata": {},
     "output_type": "execute_result"
    }
   ],
   "source": [
    "gs.best_score_"
   ]
  },
  {
   "cell_type": "code",
   "execution_count": 51,
   "metadata": {},
   "outputs": [
    {
     "data": {
      "text/plain": [
       "{'estimator__min_samples_leaf': 150, 'estimator__min_samples_split': 10}"
      ]
     },
     "execution_count": 51,
     "metadata": {},
     "output_type": "execute_result"
    }
   ],
   "source": [
    "gs.best_params_"
   ]
  },
  {
   "cell_type": "markdown",
   "metadata": {},
   "source": [
    "## Train all data with Random forest"
   ]
  },
  {
   "cell_type": "code",
   "execution_count": 4,
   "metadata": {},
   "outputs": [],
   "source": [
    "# load data\n",
    "df = carrega_dados('train_tratado_outliers_2.csv')"
   ]
  },
  {
   "cell_type": "code",
   "execution_count": 5,
   "metadata": {},
   "outputs": [
    {
     "data": {
      "text/html": [
       "<div>\n",
       "<style scoped>\n",
       "    .dataframe tbody tr th:only-of-type {\n",
       "        vertical-align: middle;\n",
       "    }\n",
       "\n",
       "    .dataframe tbody tr th {\n",
       "        vertical-align: top;\n",
       "    }\n",
       "\n",
       "    .dataframe thead th {\n",
       "        text-align: right;\n",
       "    }\n",
       "</style>\n",
       "<table border=\"1\" class=\"dataframe\">\n",
       "  <thead>\n",
       "    <tr style=\"text-align: right;\">\n",
       "      <th></th>\n",
       "      <th>origin_call</th>\n",
       "      <th>origin_stand</th>\n",
       "      <th>taxi_id</th>\n",
       "      <th>dist_perc</th>\n",
       "      <th>start_lat</th>\n",
       "      <th>start_lon</th>\n",
       "      <th>stop_lat</th>\n",
       "      <th>stop_lon</th>\n",
       "      <th>month</th>\n",
       "      <th>day</th>\n",
       "      <th>hour</th>\n",
       "      <th>fds_fer</th>\n",
       "      <th>call_type_a</th>\n",
       "      <th>call_type_b</th>\n",
       "      <th>call_type_c</th>\n",
       "    </tr>\n",
       "  </thead>\n",
       "  <tbody>\n",
       "    <tr>\n",
       "      <th>0</th>\n",
       "      <td>-1.0</td>\n",
       "      <td>-1.0</td>\n",
       "      <td>20000589</td>\n",
       "      <td>2.23</td>\n",
       "      <td>41.141412</td>\n",
       "      <td>-8.618643</td>\n",
       "      <td>41.154489</td>\n",
       "      <td>-8.630838</td>\n",
       "      <td>7</td>\n",
       "      <td>1</td>\n",
       "      <td>0</td>\n",
       "      <td>0</td>\n",
       "      <td>0.0</td>\n",
       "      <td>0.0</td>\n",
       "      <td>1.0</td>\n",
       "    </tr>\n",
       "    <tr>\n",
       "      <th>1</th>\n",
       "      <td>-1.0</td>\n",
       "      <td>7.0</td>\n",
       "      <td>20000596</td>\n",
       "      <td>3.46</td>\n",
       "      <td>41.159826</td>\n",
       "      <td>-8.639847</td>\n",
       "      <td>41.170671</td>\n",
       "      <td>-8.665740</td>\n",
       "      <td>7</td>\n",
       "      <td>1</td>\n",
       "      <td>0</td>\n",
       "      <td>0</td>\n",
       "      <td>0.0</td>\n",
       "      <td>1.0</td>\n",
       "      <td>0.0</td>\n",
       "    </tr>\n",
       "  </tbody>\n",
       "</table>\n",
       "</div>"
      ],
      "text/plain": [
       "   origin_call  origin_stand   taxi_id  dist_perc  start_lat  start_lon  \\\n",
       "0         -1.0          -1.0  20000589       2.23  41.141412  -8.618643   \n",
       "1         -1.0           7.0  20000596       3.46  41.159826  -8.639847   \n",
       "\n",
       "    stop_lat  stop_lon  month  day  hour  fds_fer  call_type_a  call_type_b  \\\n",
       "0  41.154489 -8.630838      7    1     0        0          0.0          0.0   \n",
       "1  41.170671 -8.665740      7    1     0        0          0.0          1.0   \n",
       "\n",
       "   call_type_c  \n",
       "0          1.0  \n",
       "1          0.0  "
      ]
     },
     "execution_count": 5,
     "metadata": {},
     "output_type": "execute_result"
    }
   ],
   "source": [
    "df.head(2)"
   ]
  },
  {
   "cell_type": "code",
   "execution_count": 6,
   "metadata": {},
   "outputs": [],
   "source": [
    "# separating\n",
    "y = df[['stop_lon', 'stop_lat']]\n",
    "X = df.drop(['stop_lon', 'stop_lat'], axis=1)"
   ]
  },
  {
   "cell_type": "code",
   "execution_count": 7,
   "metadata": {},
   "outputs": [],
   "source": [
    "# using Min max scaler. Fit first then transform it after.\n",
    "\n",
    "# create scaler\n",
    "scaler = MinMaxScaler().fit(X)\n",
    "#transforming\n",
    "X = scaler.transform(X)"
   ]
  },
  {
   "cell_type": "code",
   "execution_count": 143,
   "metadata": {
    "scrolled": true
   },
   "outputs": [
    {
     "name": "stdout",
     "output_type": "stream",
     "text": [
      "building tree 1 of 100\n",
      "building tree 2 of 100\n",
      "building tree 3 of 100building tree 4 of 100\n",
      "\n",
      "building tree 5 of 100\n",
      "building tree 6 of 100\n",
      "building tree 7 of 100\n",
      "building tree 8 of 100\n",
      "building tree 9 of 100\n",
      "building tree 10 of 100\n",
      "building tree 11 of 100\n",
      "building tree 12 of 100\n",
      "building tree 13 of 100\n",
      "building tree 14 of 100\n",
      "building tree 15 of 100\n",
      "building tree 16 of 100\n",
      "building tree 17 of 100\n",
      "building tree 18 of 100\n",
      "building tree 19 of 100\n",
      "building tree 20 of 100\n",
      "building tree 21 of 100\n",
      "building tree 22 of 100\n",
      "building tree 23 of 100\n",
      "building tree 24 of 100\n",
      "building tree 25 of 100\n",
      "building tree 26 of 100\n",
      "building tree 27 of 100\n",
      "building tree 28 of 100\n",
      "building tree 29 of 100\n",
      "building tree 30 of 100\n",
      "building tree 31 of 100\n",
      "building tree 32 of 100\n",
      "building tree 33 of 100\n",
      "building tree 34 of 100\n",
      "building tree 35 of 100\n",
      "building tree 36 of 100\n",
      "building tree 37 of 100\n"
     ]
    },
    {
     "name": "stderr",
     "output_type": "stream",
     "text": [
      "[Parallel(n_jobs=-1)]: Done  33 tasks      | elapsed:  2.5min\n"
     ]
    },
    {
     "name": "stdout",
     "output_type": "stream",
     "text": [
      "building tree 38 of 100\n",
      "building tree 39 of 100\n",
      "building tree 40 of 100\n",
      "building tree 41 of 100\n",
      "building tree 42 of 100\n",
      "building tree 43 of 100\n",
      "building tree 44 of 100\n",
      "building tree 45 of 100\n",
      "building tree 46 of 100\n",
      "building tree 47 of 100\n",
      "building tree 48 of 100\n",
      "building tree 49 of 100\n",
      "building tree 50 of 100\n",
      "building tree 51 of 100\n",
      "building tree 52 of 100\n",
      "building tree 53 of 100\n",
      "building tree 54 of 100\n",
      "building tree 55 of 100\n",
      "building tree 56 of 100\n",
      "building tree 57 of 100\n",
      "building tree 58 of 100\n",
      "building tree 59 of 100\n",
      "building tree 60 of 100\n",
      "building tree 61 of 100\n",
      "building tree 62 of 100\n",
      "building tree 63 of 100\n",
      "building tree 64 of 100\n",
      "building tree 65 of 100\n",
      "building tree 66 of 100\n",
      "building tree 67 of 100\n",
      "building tree 68 of 100\n",
      "building tree 69 of 100\n",
      "building tree 70 of 100\n",
      "building tree 71 of 100\n",
      "building tree 72 of 100\n",
      "building tree 73 of 100\n",
      "building tree 74 of 100\n",
      "building tree 75 of 100\n",
      "building tree 76 of 100\n",
      "building tree 77 of 100\n",
      "building tree 78 of 100\n",
      "building tree 79 of 100\n",
      "building tree 80 of 100\n",
      "building tree 81 of 100\n",
      "building tree 82 of 100\n",
      "building tree 83 of 100\n",
      "building tree 84 of 100\n",
      "building tree 85 of 100\n",
      "building tree 86 of 100\n",
      "building tree 87 of 100\n",
      "building tree 88 of 100\n",
      "building tree 89 of 100\n",
      "building tree 90 of 100\n",
      "building tree 91 of 100\n",
      "building tree 92 of 100\n",
      "building tree 93 of 100\n",
      "building tree 94 of 100\n",
      "building tree 95 of 100\n",
      "building tree 96 of 100\n",
      "building tree 97 of 100\n",
      "building tree 98 of 100\n",
      "building tree 99 of 100\n",
      "building tree 100 of 100\n"
     ]
    },
    {
     "name": "stderr",
     "output_type": "stream",
     "text": [
      "[Parallel(n_jobs=-1)]: Done 100 out of 100 | elapsed:  7.0min finished\n"
     ]
    },
    {
     "data": {
      "text/plain": [
       "RandomForestRegressor(bootstrap=True, criterion='mse', max_depth=8,\n",
       "           max_features='auto', max_leaf_nodes=None,\n",
       "           min_impurity_decrease=0.0, min_impurity_split=None,\n",
       "           min_samples_leaf=50, min_samples_split=2,\n",
       "           min_weight_fraction_leaf=0.0, n_estimators=100, n_jobs=-1,\n",
       "           oob_score=False, random_state=99, verbose=2, warm_start=False)"
      ]
     },
     "execution_count": 143,
     "metadata": {},
     "output_type": "execute_result"
    }
   ],
   "source": [
    "# fit\n",
    "# n_jobs=-1 works fine here. Seems that screen freeze have relation with custom score and how gridsearch use that.\n",
    "\n",
    "reg = RandomForestRegressor(n_estimators=100, n_jobs=-1, max_depth=8, min_samples_leaf=50, random_state=99, verbose=2)\n",
    "reg.fit(X,y)"
   ]
  },
  {
   "cell_type": "code",
   "execution_count": 145,
   "metadata": {},
   "outputs": [],
   "source": [
    "# saving pickle\n",
    "\n",
    "#name = r'pickles/'+str(datetime.datetime.now().date())+'_random_forest_0.3_.save'\n",
    "#pickle.dump(reg, open(name,'wb'))"
   ]
  },
  {
   "cell_type": "code",
   "execution_count": 8,
   "metadata": {},
   "outputs": [
    {
     "name": "stderr",
     "output_type": "stream",
     "text": [
      "C:\\Users\\Mark\\Anaconda3\\lib\\site-packages\\sklearn\\base.py:311: UserWarning: Trying to unpickle estimator DecisionTreeRegressor from version 0.19.1 when using version 0.19.2. This might lead to breaking code or invalid results. Use at your own risk.\n",
      "  UserWarning)\n",
      "C:\\Users\\Mark\\Anaconda3\\lib\\site-packages\\sklearn\\base.py:311: UserWarning: Trying to unpickle estimator RandomForestRegressor from version 0.19.1 when using version 0.19.2. This might lead to breaking code or invalid results. Use at your own risk.\n",
      "  UserWarning)\n"
     ]
    }
   ],
   "source": [
    "# Loading model\n",
    "\n",
    "name_load = r'pickles/2018-10-01_random_forest_0.3_.save'\n",
    "reg = pickle.load(open(name_load, 'rb'))"
   ]
  },
  {
   "cell_type": "markdown",
   "metadata": {},
   "source": [
    "### Test\n",
    "\n",
    "Each one of These datasets refer to trips occurred between 01/07/2014 and 31/12/2014. Each one of these data sets will provide a snapshot of the current network status on a given timestamp. It will provide partial trajectories for each one of the on-going trips during that specific moment.\n",
    "\n",
    "The five snapshots included on the test set refer to the following timestamps:\n",
    "\n",
    "- 14/08/2014 18:00:00\n",
    "- 30/09/2014 08:30:00\n",
    "- 06/10/2014 17:45:00\n",
    "- 01/11/2014 04:00:00\n",
    "- 21/12/2014 14:30:00"
   ]
  },
  {
   "cell_type": "code",
   "execution_count": 9,
   "metadata": {},
   "outputs": [],
   "source": [
    "df_test = carrega_dados('test_trated.csv', None, True)"
   ]
  },
  {
   "cell_type": "code",
   "execution_count": 10,
   "metadata": {},
   "outputs": [
    {
     "data": {
      "text/html": [
       "<div>\n",
       "<style scoped>\n",
       "    .dataframe tbody tr th:only-of-type {\n",
       "        vertical-align: middle;\n",
       "    }\n",
       "\n",
       "    .dataframe tbody tr th {\n",
       "        vertical-align: top;\n",
       "    }\n",
       "\n",
       "    .dataframe thead th {\n",
       "        text-align: right;\n",
       "    }\n",
       "</style>\n",
       "<table border=\"1\" class=\"dataframe\">\n",
       "  <thead>\n",
       "    <tr style=\"text-align: right;\">\n",
       "      <th></th>\n",
       "      <th>trip_id</th>\n",
       "      <th>origin_call</th>\n",
       "      <th>origin_stand</th>\n",
       "      <th>taxi_id</th>\n",
       "      <th>dist_perc</th>\n",
       "      <th>start_lat</th>\n",
       "      <th>start_lon</th>\n",
       "      <th>stop_lat</th>\n",
       "      <th>stop_lon</th>\n",
       "      <th>month</th>\n",
       "      <th>day</th>\n",
       "      <th>hour</th>\n",
       "      <th>fds_fer</th>\n",
       "      <th>call_type_a</th>\n",
       "      <th>call_type_b</th>\n",
       "      <th>call_type_c</th>\n",
       "    </tr>\n",
       "  </thead>\n",
       "  <tbody>\n",
       "    <tr>\n",
       "      <th>0</th>\n",
       "      <td>T1</td>\n",
       "      <td>-1.0</td>\n",
       "      <td>15.0</td>\n",
       "      <td>20000542</td>\n",
       "      <td>0.51</td>\n",
       "      <td>41.148522</td>\n",
       "      <td>-8.585676</td>\n",
       "      <td>41.146623</td>\n",
       "      <td>-8.584884</td>\n",
       "      <td>8</td>\n",
       "      <td>14</td>\n",
       "      <td>17</td>\n",
       "      <td>0</td>\n",
       "      <td>0.0</td>\n",
       "      <td>1.0</td>\n",
       "      <td>0.0</td>\n",
       "    </tr>\n",
       "    <tr>\n",
       "      <th>1</th>\n",
       "      <td>T2</td>\n",
       "      <td>-1.0</td>\n",
       "      <td>57.0</td>\n",
       "      <td>20000108</td>\n",
       "      <td>2.28</td>\n",
       "      <td>41.145570</td>\n",
       "      <td>-8.610876</td>\n",
       "      <td>41.163597</td>\n",
       "      <td>-8.601894</td>\n",
       "      <td>8</td>\n",
       "      <td>14</td>\n",
       "      <td>17</td>\n",
       "      <td>0</td>\n",
       "      <td>0.0</td>\n",
       "      <td>1.0</td>\n",
       "      <td>0.0</td>\n",
       "    </tr>\n",
       "    <tr>\n",
       "      <th>2</th>\n",
       "      <td>T3</td>\n",
       "      <td>-1.0</td>\n",
       "      <td>15.0</td>\n",
       "      <td>20000370</td>\n",
       "      <td>3.91</td>\n",
       "      <td>41.148558</td>\n",
       "      <td>-8.585739</td>\n",
       "      <td>41.167719</td>\n",
       "      <td>-8.574903</td>\n",
       "      <td>8</td>\n",
       "      <td>14</td>\n",
       "      <td>17</td>\n",
       "      <td>0</td>\n",
       "      <td>0.0</td>\n",
       "      <td>1.0</td>\n",
       "      <td>0.0</td>\n",
       "    </tr>\n",
       "    <tr>\n",
       "      <th>3</th>\n",
       "      <td>T4</td>\n",
       "      <td>-1.0</td>\n",
       "      <td>53.0</td>\n",
       "      <td>20000492</td>\n",
       "      <td>0.18</td>\n",
       "      <td>41.141169</td>\n",
       "      <td>-8.613963</td>\n",
       "      <td>41.140980</td>\n",
       "      <td>-8.614638</td>\n",
       "      <td>8</td>\n",
       "      <td>14</td>\n",
       "      <td>17</td>\n",
       "      <td>0</td>\n",
       "      <td>0.0</td>\n",
       "      <td>1.0</td>\n",
       "      <td>0.0</td>\n",
       "    </tr>\n",
       "    <tr>\n",
       "      <th>4</th>\n",
       "      <td>T5</td>\n",
       "      <td>-1.0</td>\n",
       "      <td>18.0</td>\n",
       "      <td>20000621</td>\n",
       "      <td>0.00</td>\n",
       "      <td>41.148036</td>\n",
       "      <td>-8.619903</td>\n",
       "      <td>41.148036</td>\n",
       "      <td>-8.619894</td>\n",
       "      <td>8</td>\n",
       "      <td>14</td>\n",
       "      <td>17</td>\n",
       "      <td>0</td>\n",
       "      <td>0.0</td>\n",
       "      <td>1.0</td>\n",
       "      <td>0.0</td>\n",
       "    </tr>\n",
       "  </tbody>\n",
       "</table>\n",
       "</div>"
      ],
      "text/plain": [
       "  trip_id  origin_call  origin_stand   taxi_id  dist_perc  start_lat  \\\n",
       "0      T1         -1.0          15.0  20000542       0.51  41.148522   \n",
       "1      T2         -1.0          57.0  20000108       2.28  41.145570   \n",
       "2      T3         -1.0          15.0  20000370       3.91  41.148558   \n",
       "3      T4         -1.0          53.0  20000492       0.18  41.141169   \n",
       "4      T5         -1.0          18.0  20000621       0.00  41.148036   \n",
       "\n",
       "   start_lon   stop_lat  stop_lon  month  day  hour  fds_fer  call_type_a  \\\n",
       "0  -8.585676  41.146623 -8.584884      8   14    17        0          0.0   \n",
       "1  -8.610876  41.163597 -8.601894      8   14    17        0          0.0   \n",
       "2  -8.585739  41.167719 -8.574903      8   14    17        0          0.0   \n",
       "3  -8.613963  41.140980 -8.614638      8   14    17        0          0.0   \n",
       "4  -8.619903  41.148036 -8.619894      8   14    17        0          0.0   \n",
       "\n",
       "   call_type_b  call_type_c  \n",
       "0          1.0          0.0  \n",
       "1          1.0          0.0  \n",
       "2          1.0          0.0  \n",
       "3          1.0          0.0  \n",
       "4          1.0          0.0  "
      ]
     },
     "execution_count": 10,
     "metadata": {},
     "output_type": "execute_result"
    }
   ],
   "source": [
    "df_test.head()"
   ]
  },
  {
   "cell_type": "code",
   "execution_count": 11,
   "metadata": {},
   "outputs": [],
   "source": [
    "df_test.set_index('trip_id', inplace=True)\n",
    "y2 = df_test[['stop_lon', 'stop_lat']]\n",
    "X2 = df_test.drop(['stop_lon', 'stop_lat'], axis=1)"
   ]
  },
  {
   "cell_type": "code",
   "execution_count": 12,
   "metadata": {},
   "outputs": [],
   "source": [
    "X2_scaled = scaler.transform(X2)"
   ]
  },
  {
   "cell_type": "code",
   "execution_count": 13,
   "metadata": {},
   "outputs": [
    {
     "name": "stderr",
     "output_type": "stream",
     "text": [
      "[Parallel(n_jobs=4)]: Done  33 tasks      | elapsed:    0.0s\n",
      "[Parallel(n_jobs=4)]: Done 100 out of 100 | elapsed:    0.0s finished\n"
     ]
    }
   ],
   "source": [
    "preds = reg.predict(X2_scaled)"
   ]
  },
  {
   "cell_type": "code",
   "execution_count": 17,
   "metadata": {
    "scrolled": true
   },
   "outputs": [
    {
     "name": "stderr",
     "output_type": "stream",
     "text": [
      "[Parallel(n_jobs=4)]: Done  33 tasks      | elapsed:    0.0s\n",
      "[Parallel(n_jobs=4)]: Done 100 out of 100 | elapsed:    0.0s finished\n"
     ]
    },
    {
     "data": {
      "text/plain": [
       "-2.5584310346087262"
      ]
     },
     "execution_count": 17,
     "metadata": {},
     "output_type": "execute_result"
    }
   ],
   "source": [
    "score_(reg, X2_scaled, y2)"
   ]
  },
  {
   "cell_type": "markdown",
   "metadata": {},
   "source": [
    "The model fulfilled its role and put itself well with new data achieving to generalize new points with good performance. **However, in the images below we can see a forecast did not vary the data as the originals.**"
   ]
  },
  {
   "cell_type": "markdown",
   "metadata": {},
   "source": [
    "## Ploting results\n",
    "\n",
    "Some points were concentrated in some parts of the city, not yielding so much variance in the final result."
   ]
  },
  {
   "cell_type": "code",
   "execution_count": 18,
   "metadata": {},
   "outputs": [],
   "source": [
    "# Essa é a mesma formula usada para fazer o scorer.\n",
    "# Aqui esta mais legível e computa apenas a distancia\n",
    "# entre os pontos.\n",
    "\n",
    "def haversine(lon1, lat1, lon2, lat2):\n",
    "    \"\"\"\n",
    "    Calculate the great circle distance between two points \n",
    "    on the earth (specified in decimal degrees)\n",
    "    \"\"\"\n",
    "    # convert decimal degrees to radians \n",
    "    lon1, lat1, lon2, lat2 = map(radians, [lon1, lat1, lon2, lat2])\n",
    "\n",
    "    a = sin((lat2 - lat1)/2)**2 + cos(lat1) * cos(lat2) * sin((lon2 - lon1)/2)**2\n",
    "    c = 2 * asin(sqrt(a)) \n",
    "    r = 6371 # Radius of earth in kilometers. Use 3956 for miles\n",
    "    return c * r"
   ]
  },
  {
   "cell_type": "code",
   "execution_count": 19,
   "metadata": {},
   "outputs": [],
   "source": [
    "result = y2.copy()\n",
    "result['pred_stop_lon'] = preds[:,0]\n",
    "result['pred_stop_lat'] = preds[:,1]\n",
    "result['diff_dist'] = result.apply(lambda x: haversine(x[0], x[1], x[2], x[3]), axis=1)"
   ]
  },
  {
   "cell_type": "code",
   "execution_count": 20,
   "metadata": {
    "scrolled": true
   },
   "outputs": [],
   "source": [
    "result = pd.concat([result, X2[['start_lon', 'start_lat']]], axis=1)"
   ]
  },
  {
   "cell_type": "code",
   "execution_count": 21,
   "metadata": {},
   "outputs": [
    {
     "data": {
      "text/html": [
       "<div>\n",
       "<style scoped>\n",
       "    .dataframe tbody tr th:only-of-type {\n",
       "        vertical-align: middle;\n",
       "    }\n",
       "\n",
       "    .dataframe tbody tr th {\n",
       "        vertical-align: top;\n",
       "    }\n",
       "\n",
       "    .dataframe thead th {\n",
       "        text-align: right;\n",
       "    }\n",
       "</style>\n",
       "<table border=\"1\" class=\"dataframe\">\n",
       "  <thead>\n",
       "    <tr style=\"text-align: right;\">\n",
       "      <th></th>\n",
       "      <th>stop_lon</th>\n",
       "      <th>stop_lat</th>\n",
       "      <th>pred_stop_lon</th>\n",
       "      <th>pred_stop_lat</th>\n",
       "      <th>diff_dist</th>\n",
       "      <th>start_lon</th>\n",
       "      <th>start_lat</th>\n",
       "    </tr>\n",
       "    <tr>\n",
       "      <th>trip_id</th>\n",
       "      <th></th>\n",
       "      <th></th>\n",
       "      <th></th>\n",
       "      <th></th>\n",
       "      <th></th>\n",
       "      <th></th>\n",
       "      <th></th>\n",
       "    </tr>\n",
       "  </thead>\n",
       "  <tbody>\n",
       "    <tr>\n",
       "      <th>T1</th>\n",
       "      <td>-8.584884</td>\n",
       "      <td>41.146623</td>\n",
       "      <td>-8.604468</td>\n",
       "      <td>41.156994</td>\n",
       "      <td>2.004555</td>\n",
       "      <td>-8.585676</td>\n",
       "      <td>41.148522</td>\n",
       "    </tr>\n",
       "    <tr>\n",
       "      <th>T2</th>\n",
       "      <td>-8.601894</td>\n",
       "      <td>41.163597</td>\n",
       "      <td>-8.612704</td>\n",
       "      <td>41.153483</td>\n",
       "      <td>1.443557</td>\n",
       "      <td>-8.610876</td>\n",
       "      <td>41.145570</td>\n",
       "    </tr>\n",
       "    <tr>\n",
       "      <th>T3</th>\n",
       "      <td>-8.574903</td>\n",
       "      <td>41.167719</td>\n",
       "      <td>-8.604984</td>\n",
       "      <td>41.157335</td>\n",
       "      <td>2.770293</td>\n",
       "      <td>-8.585739</td>\n",
       "      <td>41.148558</td>\n",
       "    </tr>\n",
       "    <tr>\n",
       "      <th>T4</th>\n",
       "      <td>-8.614638</td>\n",
       "      <td>41.140980</td>\n",
       "      <td>-8.612704</td>\n",
       "      <td>41.153483</td>\n",
       "      <td>1.399627</td>\n",
       "      <td>-8.613963</td>\n",
       "      <td>41.141169</td>\n",
       "    </tr>\n",
       "    <tr>\n",
       "      <th>T5</th>\n",
       "      <td>-8.619894</td>\n",
       "      <td>41.148036</td>\n",
       "      <td>-8.621989</td>\n",
       "      <td>41.155700</td>\n",
       "      <td>0.870028</td>\n",
       "      <td>-8.619903</td>\n",
       "      <td>41.148036</td>\n",
       "    </tr>\n",
       "  </tbody>\n",
       "</table>\n",
       "</div>"
      ],
      "text/plain": [
       "         stop_lon   stop_lat  pred_stop_lon  pred_stop_lat  diff_dist  \\\n",
       "trip_id                                                                 \n",
       "T1      -8.584884  41.146623      -8.604468      41.156994   2.004555   \n",
       "T2      -8.601894  41.163597      -8.612704      41.153483   1.443557   \n",
       "T3      -8.574903  41.167719      -8.604984      41.157335   2.770293   \n",
       "T4      -8.614638  41.140980      -8.612704      41.153483   1.399627   \n",
       "T5      -8.619894  41.148036      -8.621989      41.155700   0.870028   \n",
       "\n",
       "         start_lon  start_lat  \n",
       "trip_id                        \n",
       "T1       -8.585676  41.148522  \n",
       "T2       -8.610876  41.145570  \n",
       "T3       -8.585739  41.148558  \n",
       "T4       -8.613963  41.141169  \n",
       "T5       -8.619903  41.148036  "
      ]
     },
     "execution_count": 21,
     "metadata": {},
     "output_type": "execute_result"
    }
   ],
   "source": [
    "result.head()"
   ]
  },
  {
   "cell_type": "code",
   "execution_count": 26,
   "metadata": {},
   "outputs": [
    {
     "name": "stdout",
     "output_type": "stream",
     "text": [
      "Left: real points\n",
      "Right: Predicted points\n"
     ]
    },
    {
     "data": {
      "text/html": [
       "<div style=\"width:100%;\"><div style=\"position:relative;width:100%;height:0;padding-bottom:60%;\"><iframe src=\"data:text/html;charset=utf-8;base64,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\" style=\"position:absolute;width:100%;height:100%;left:0;top:0;border:none !important;\" allowfullscreen webkitallowfullscreen mozallowfullscreen></iframe></div></div>"
      ],
      "text/plain": [
       "<branca.element.Figure at 0x1b8b217bcc0>"
      ]
     },
     "execution_count": 26,
     "metadata": {},
     "output_type": "execute_result"
    }
   ],
   "source": [
    "f = branca.element.Figure()\n",
    "\n",
    "d1 = f.add_subplot(1, 2, 1)\n",
    "d2 = f.add_subplot(1, 2, 2)\n",
    "\n",
    "m1 = folium.Map(width=450,height=500, location=(41.1603929,-8.6207527), zoom_start=11, tiles='Cartodb dark_matter')\n",
    "HeatMap(result[['stop_lat','stop_lon']].values).add_to(m1)\n",
    "\n",
    "m2 = folium.Map(width=450,height=500, location=(41.1789818,-8.6616573), zoom_start=11, tiles='Cartodb dark_matter')\n",
    "HeatMap(result[['pred_stop_lat','pred_stop_lon']].values).add_to(m2)\n",
    "\n",
    "d1.add_child(m1)\n",
    "d2.add_child(m2)\n",
    "\n",
    "f.save(r'map/compare_real_pred.html')\n",
    "\n",
    "print('Left: real points\\nRight: Predicted points')\n",
    "\n",
    "\n",
    "f"
   ]
  },
  {
   "cell_type": "markdown",
   "metadata": {},
   "source": [
    "![Porto](map/compare_img.PNG)"
   ]
  }
 ],
 "metadata": {
  "kernelspec": {
   "display_name": "Python 3",
   "language": "python",
   "name": "python3"
  },
  "language_info": {
   "codemirror_mode": {
    "name": "ipython",
    "version": 3
   },
   "file_extension": ".py",
   "mimetype": "text/x-python",
   "name": "python",
   "nbconvert_exporter": "python",
   "pygments_lexer": "ipython3",
   "version": "3.6.5"
  }
 },
 "nbformat": 4,
 "nbformat_minor": 2
}
