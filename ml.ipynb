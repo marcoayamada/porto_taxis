{
 "cells": [
  {
   "cell_type": "code",
   "execution_count": 1,
   "metadata": {},
   "outputs": [],
   "source": [
    "import pandas as pd\n",
    "import numpy as np\n",
    "import ast\n",
    "import datetime\n",
    "from math import radians, cos, sin, asin, sqrt"
   ]
  },
  {
   "cell_type": "code",
   "execution_count": 2,
   "metadata": {},
   "outputs": [],
   "source": [
    "usecols = ['CALL_TYPE', 'ORIGIN_CALL', 'ORIGIN_STAND', \n",
    "           'TAXI_ID', 'TIMESTAMP', \n",
    "           'POLYLINE', 'dist_perc', 'start', 'stop']\n",
    "\n",
    "df = pd.read_csv('train_tratado_outliers.csv', usecols=usecols, parse_dates=True, nrows=100000)\n",
    "\n",
    "# cabeçalho minusculo\n",
    "df.columns = df.columns.map(lambda x: x.lower())\n",
    "#conversão da data de obj para datetime\n",
    "df.timestamp = pd.to_datetime(df.timestamp)"
   ]
  },
  {
   "cell_type": "code",
   "execution_count": 3,
   "metadata": {},
   "outputs": [
    {
     "data": {
      "text/html": [
       "<div>\n",
       "<style scoped>\n",
       "    .dataframe tbody tr th:only-of-type {\n",
       "        vertical-align: middle;\n",
       "    }\n",
       "\n",
       "    .dataframe tbody tr th {\n",
       "        vertical-align: top;\n",
       "    }\n",
       "\n",
       "    .dataframe thead th {\n",
       "        text-align: right;\n",
       "    }\n",
       "</style>\n",
       "<table border=\"1\" class=\"dataframe\">\n",
       "  <thead>\n",
       "    <tr style=\"text-align: right;\">\n",
       "      <th></th>\n",
       "      <th>call_type</th>\n",
       "      <th>origin_call</th>\n",
       "      <th>origin_stand</th>\n",
       "      <th>taxi_id</th>\n",
       "      <th>timestamp</th>\n",
       "      <th>polyline</th>\n",
       "      <th>dist_perc</th>\n",
       "      <th>start</th>\n",
       "      <th>stop</th>\n",
       "    </tr>\n",
       "  </thead>\n",
       "  <tbody>\n",
       "    <tr>\n",
       "      <th>0</th>\n",
       "      <td>C</td>\n",
       "      <td>NaN</td>\n",
       "      <td>NaN</td>\n",
       "      <td>20000589</td>\n",
       "      <td>2013-07-01 00:00:58</td>\n",
       "      <td>[[-8.618643,41.141412],[-8.618499,41.141376],[...</td>\n",
       "      <td>2.23</td>\n",
       "      <td>[-8.618643, 41.141412]</td>\n",
       "      <td>[-8.630838, 41.154489]</td>\n",
       "    </tr>\n",
       "    <tr>\n",
       "      <th>1</th>\n",
       "      <td>B</td>\n",
       "      <td>NaN</td>\n",
       "      <td>7.0</td>\n",
       "      <td>20000596</td>\n",
       "      <td>2013-07-01 00:08:23</td>\n",
       "      <td>[[-8.639847,41.159826],[-8.640351,41.159871],[...</td>\n",
       "      <td>3.46</td>\n",
       "      <td>[-8.639847, 41.159826]</td>\n",
       "      <td>[-8.66574, 41.170671]</td>\n",
       "    </tr>\n",
       "    <tr>\n",
       "      <th>2</th>\n",
       "      <td>C</td>\n",
       "      <td>NaN</td>\n",
       "      <td>NaN</td>\n",
       "      <td>20000320</td>\n",
       "      <td>2013-07-01 00:02:31</td>\n",
       "      <td>[[-8.612964,41.140359],[-8.613378,41.14035],[-...</td>\n",
       "      <td>17.63</td>\n",
       "      <td>[-8.612964, 41.140359]</td>\n",
       "      <td>[-8.61597, 41.14053]</td>\n",
       "    </tr>\n",
       "    <tr>\n",
       "      <th>3</th>\n",
       "      <td>C</td>\n",
       "      <td>NaN</td>\n",
       "      <td>NaN</td>\n",
       "      <td>20000520</td>\n",
       "      <td>2013-07-01 00:00:54</td>\n",
       "      <td>[[-8.574678,41.151951],[-8.574705,41.151942],[...</td>\n",
       "      <td>7.97</td>\n",
       "      <td>[-8.574678, 41.151951]</td>\n",
       "      <td>[-8.607996, 41.142915]</td>\n",
       "    </tr>\n",
       "    <tr>\n",
       "      <th>4</th>\n",
       "      <td>C</td>\n",
       "      <td>NaN</td>\n",
       "      <td>NaN</td>\n",
       "      <td>20000337</td>\n",
       "      <td>2013-07-01 00:04:51</td>\n",
       "      <td>[[-8.645994,41.18049],[-8.645949,41.180517],[-...</td>\n",
       "      <td>4.81</td>\n",
       "      <td>[-8.645994, 41.18049]</td>\n",
       "      <td>[-8.687268, 41.178087]</td>\n",
       "    </tr>\n",
       "  </tbody>\n",
       "</table>\n",
       "</div>"
      ],
      "text/plain": [
       "  call_type  origin_call  origin_stand   taxi_id           timestamp  \\\n",
       "0         C          NaN           NaN  20000589 2013-07-01 00:00:58   \n",
       "1         B          NaN           7.0  20000596 2013-07-01 00:08:23   \n",
       "2         C          NaN           NaN  20000320 2013-07-01 00:02:31   \n",
       "3         C          NaN           NaN  20000520 2013-07-01 00:00:54   \n",
       "4         C          NaN           NaN  20000337 2013-07-01 00:04:51   \n",
       "\n",
       "                                            polyline  dist_perc  \\\n",
       "0  [[-8.618643,41.141412],[-8.618499,41.141376],[...       2.23   \n",
       "1  [[-8.639847,41.159826],[-8.640351,41.159871],[...       3.46   \n",
       "2  [[-8.612964,41.140359],[-8.613378,41.14035],[-...      17.63   \n",
       "3  [[-8.574678,41.151951],[-8.574705,41.151942],[...       7.97   \n",
       "4  [[-8.645994,41.18049],[-8.645949,41.180517],[-...       4.81   \n",
       "\n",
       "                    start                    stop  \n",
       "0  [-8.618643, 41.141412]  [-8.630838, 41.154489]  \n",
       "1  [-8.639847, 41.159826]   [-8.66574, 41.170671]  \n",
       "2  [-8.612964, 41.140359]    [-8.61597, 41.14053]  \n",
       "3  [-8.574678, 41.151951]  [-8.607996, 41.142915]  \n",
       "4   [-8.645994, 41.18049]  [-8.687268, 41.178087]  "
      ]
     },
     "execution_count": 3,
     "metadata": {},
     "output_type": "execute_result"
    }
   ],
   "source": [
    "df.head()"
   ]
  },
  {
   "cell_type": "markdown",
   "metadata": {},
   "source": [
    "Working with polyline (get first, last and penultimate)"
   ]
  },
  {
   "cell_type": "code",
   "execution_count": 4,
   "metadata": {},
   "outputs": [],
   "source": [
    "del df['start']\n",
    "del df['stop']"
   ]
  },
  {
   "cell_type": "code",
   "execution_count": 5,
   "metadata": {},
   "outputs": [],
   "source": [
    "def points(x):\n",
    "    try:\n",
    "        \n",
    "        global cont;\n",
    "        \n",
    "        line = np.array(ast.literal_eval(x))\n",
    "        \n",
    "        if line.size>2:\n",
    "            return line[0][1], line[0][0], line[-2][1], line[-2][0], line[-1][1], line[-1][0]\n",
    "        \n",
    "        return 0,0,0,0,0,0\n",
    "    except Exception as e:\n",
    "        #print(e)\n",
    "        None\n",
    "   #finally:\n",
    "   #    if cont%10000 ==0: print(datetime.datetime.now(), cont)"
   ]
  },
  {
   "cell_type": "code",
   "execution_count": 6,
   "metadata": {},
   "outputs": [],
   "source": [
    "cont=0\n",
    "df['sta_lat'],df['sta_lon'],df['pen_lat'],df['pen_lon'],df['sto_lat'],df['sto_lon'] = zip(*df['polyline'].apply(points))"
   ]
  },
  {
   "cell_type": "code",
   "execution_count": 7,
   "metadata": {},
   "outputs": [],
   "source": [
    "del df['polyline']"
   ]
  },
  {
   "cell_type": "markdown",
   "metadata": {},
   "source": [
    "Treating timestamp"
   ]
  },
  {
   "cell_type": "code",
   "execution_count": 8,
   "metadata": {},
   "outputs": [],
   "source": [
    "df['month'] = df['timestamp'].dt.month\n",
    "df['day'] = df['timestamp'].dt.day"
   ]
  },
  {
   "cell_type": "code",
   "execution_count": 9,
   "metadata": {
    "scrolled": true
   },
   "outputs": [],
   "source": [
    "#df['cat_hour'] = pd.cut(df.timestamp.dt.hour, [-1, 8, 16, 23], labels=[0,1,2])\n",
    "df['hour'] = df.timestamp.dt.hour"
   ]
  },
  {
   "cell_type": "code",
   "execution_count": 10,
   "metadata": {},
   "outputs": [],
   "source": [
    "del df['timestamp']"
   ]
  },
  {
   "cell_type": "code",
   "execution_count": 11,
   "metadata": {},
   "outputs": [
    {
     "data": {
      "text/html": [
       "<div>\n",
       "<style scoped>\n",
       "    .dataframe tbody tr th:only-of-type {\n",
       "        vertical-align: middle;\n",
       "    }\n",
       "\n",
       "    .dataframe tbody tr th {\n",
       "        vertical-align: top;\n",
       "    }\n",
       "\n",
       "    .dataframe thead th {\n",
       "        text-align: right;\n",
       "    }\n",
       "</style>\n",
       "<table border=\"1\" class=\"dataframe\">\n",
       "  <thead>\n",
       "    <tr style=\"text-align: right;\">\n",
       "      <th></th>\n",
       "      <th>call_type</th>\n",
       "      <th>origin_call</th>\n",
       "      <th>origin_stand</th>\n",
       "      <th>taxi_id</th>\n",
       "      <th>dist_perc</th>\n",
       "      <th>sta_lat</th>\n",
       "      <th>sta_lon</th>\n",
       "      <th>pen_lat</th>\n",
       "      <th>pen_lon</th>\n",
       "      <th>sto_lat</th>\n",
       "      <th>sto_lon</th>\n",
       "      <th>month</th>\n",
       "      <th>day</th>\n",
       "      <th>hour</th>\n",
       "    </tr>\n",
       "  </thead>\n",
       "  <tbody>\n",
       "    <tr>\n",
       "      <th>0</th>\n",
       "      <td>C</td>\n",
       "      <td>NaN</td>\n",
       "      <td>NaN</td>\n",
       "      <td>20000589</td>\n",
       "      <td>2.23</td>\n",
       "      <td>41.141412</td>\n",
       "      <td>-8.618643</td>\n",
       "      <td>41.154498</td>\n",
       "      <td>-8.630829</td>\n",
       "      <td>41.154489</td>\n",
       "      <td>-8.630838</td>\n",
       "      <td>7</td>\n",
       "      <td>1</td>\n",
       "      <td>0</td>\n",
       "    </tr>\n",
       "    <tr>\n",
       "      <th>1</th>\n",
       "      <td>B</td>\n",
       "      <td>NaN</td>\n",
       "      <td>7.0</td>\n",
       "      <td>20000596</td>\n",
       "      <td>3.46</td>\n",
       "      <td>41.159826</td>\n",
       "      <td>-8.639847</td>\n",
       "      <td>41.170635</td>\n",
       "      <td>-8.665767</td>\n",
       "      <td>41.170671</td>\n",
       "      <td>-8.665740</td>\n",
       "      <td>7</td>\n",
       "      <td>1</td>\n",
       "      <td>0</td>\n",
       "    </tr>\n",
       "    <tr>\n",
       "      <th>2</th>\n",
       "      <td>C</td>\n",
       "      <td>NaN</td>\n",
       "      <td>NaN</td>\n",
       "      <td>20000320</td>\n",
       "      <td>17.63</td>\n",
       "      <td>41.140359</td>\n",
       "      <td>-8.612964</td>\n",
       "      <td>41.140863</td>\n",
       "      <td>-8.617365</td>\n",
       "      <td>41.140530</td>\n",
       "      <td>-8.615970</td>\n",
       "      <td>7</td>\n",
       "      <td>1</td>\n",
       "      <td>0</td>\n",
       "    </tr>\n",
       "    <tr>\n",
       "      <th>3</th>\n",
       "      <td>C</td>\n",
       "      <td>NaN</td>\n",
       "      <td>NaN</td>\n",
       "      <td>20000520</td>\n",
       "      <td>7.97</td>\n",
       "      <td>41.151951</td>\n",
       "      <td>-8.574678</td>\n",
       "      <td>41.142915</td>\n",
       "      <td>-8.608005</td>\n",
       "      <td>41.142915</td>\n",
       "      <td>-8.607996</td>\n",
       "      <td>7</td>\n",
       "      <td>1</td>\n",
       "      <td>0</td>\n",
       "    </tr>\n",
       "    <tr>\n",
       "      <th>4</th>\n",
       "      <td>C</td>\n",
       "      <td>NaN</td>\n",
       "      <td>NaN</td>\n",
       "      <td>20000337</td>\n",
       "      <td>4.81</td>\n",
       "      <td>41.180490</td>\n",
       "      <td>-8.645994</td>\n",
       "      <td>41.178078</td>\n",
       "      <td>-8.687259</td>\n",
       "      <td>41.178087</td>\n",
       "      <td>-8.687268</td>\n",
       "      <td>7</td>\n",
       "      <td>1</td>\n",
       "      <td>0</td>\n",
       "    </tr>\n",
       "  </tbody>\n",
       "</table>\n",
       "</div>"
      ],
      "text/plain": [
       "  call_type  origin_call  origin_stand   taxi_id  dist_perc    sta_lat  \\\n",
       "0         C          NaN           NaN  20000589       2.23  41.141412   \n",
       "1         B          NaN           7.0  20000596       3.46  41.159826   \n",
       "2         C          NaN           NaN  20000320      17.63  41.140359   \n",
       "3         C          NaN           NaN  20000520       7.97  41.151951   \n",
       "4         C          NaN           NaN  20000337       4.81  41.180490   \n",
       "\n",
       "    sta_lon    pen_lat   pen_lon    sto_lat   sto_lon  month  day  hour  \n",
       "0 -8.618643  41.154498 -8.630829  41.154489 -8.630838      7    1     0  \n",
       "1 -8.639847  41.170635 -8.665767  41.170671 -8.665740      7    1     0  \n",
       "2 -8.612964  41.140863 -8.617365  41.140530 -8.615970      7    1     0  \n",
       "3 -8.574678  41.142915 -8.608005  41.142915 -8.607996      7    1     0  \n",
       "4 -8.645994  41.178078 -8.687259  41.178087 -8.687268      7    1     0  "
      ]
     },
     "execution_count": 11,
     "metadata": {},
     "output_type": "execute_result"
    }
   ],
   "source": [
    "df.head()"
   ]
  },
  {
   "cell_type": "markdown",
   "metadata": {},
   "source": [
    "Tratando call_type"
   ]
  },
  {
   "cell_type": "code",
   "execution_count": 12,
   "metadata": {},
   "outputs": [],
   "source": [
    "from sklearn import preprocessing\n",
    "from sklearn.preprocessing import OneHotEncoder\n",
    "\n",
    "df['call_type'] = preprocessing.LabelEncoder().fit_transform(df['call_type'])\n",
    "\n",
    "enc = OneHotEncoder().fit_transform(df[['call_type']])\n",
    "\n",
    "del df['call_type']\n",
    "\n",
    "df['call_type_a'] = enc.toarray()[:,0]\n",
    "df['call_type_b'] = enc.toarray()[:,1]\n",
    "df['call_type_c'] = enc.toarray()[:,2]"
   ]
  },
  {
   "cell_type": "code",
   "execution_count": 13,
   "metadata": {},
   "outputs": [
    {
     "name": "stdout",
     "output_type": "stream",
     "text": [
      "<class 'pandas.core.frame.DataFrame'>\n",
      "RangeIndex: 100000 entries, 0 to 99999\n",
      "Data columns (total 16 columns):\n",
      "origin_call     20962 non-null float64\n",
      "origin_stand    49311 non-null float64\n",
      "taxi_id         100000 non-null int64\n",
      "dist_perc       100000 non-null float64\n",
      "sta_lat         100000 non-null float64\n",
      "sta_lon         100000 non-null float64\n",
      "pen_lat         100000 non-null float64\n",
      "pen_lon         100000 non-null float64\n",
      "sto_lat         100000 non-null float64\n",
      "sto_lon         100000 non-null float64\n",
      "month           100000 non-null int64\n",
      "day             100000 non-null int64\n",
      "hour            100000 non-null int64\n",
      "call_type_a     100000 non-null float64\n",
      "call_type_b     100000 non-null float64\n",
      "call_type_c     100000 non-null float64\n",
      "dtypes: float64(12), int64(4)\n",
      "memory usage: 12.2 MB\n"
     ]
    }
   ],
   "source": [
    "df.info()"
   ]
  },
  {
   "cell_type": "markdown",
   "metadata": {},
   "source": [
    "Filling NA with -1 (all columns)"
   ]
  },
  {
   "cell_type": "code",
   "execution_count": 14,
   "metadata": {},
   "outputs": [],
   "source": [
    "df.fillna(-1, inplace=True)"
   ]
  },
  {
   "cell_type": "code",
   "execution_count": 15,
   "metadata": {},
   "outputs": [
    {
     "data": {
      "text/html": [
       "<div>\n",
       "<style scoped>\n",
       "    .dataframe tbody tr th:only-of-type {\n",
       "        vertical-align: middle;\n",
       "    }\n",
       "\n",
       "    .dataframe tbody tr th {\n",
       "        vertical-align: top;\n",
       "    }\n",
       "\n",
       "    .dataframe thead th {\n",
       "        text-align: right;\n",
       "    }\n",
       "</style>\n",
       "<table border=\"1\" class=\"dataframe\">\n",
       "  <thead>\n",
       "    <tr style=\"text-align: right;\">\n",
       "      <th></th>\n",
       "      <th>origin_call</th>\n",
       "      <th>origin_stand</th>\n",
       "      <th>taxi_id</th>\n",
       "      <th>dist_perc</th>\n",
       "      <th>sta_lat</th>\n",
       "      <th>sta_lon</th>\n",
       "      <th>pen_lat</th>\n",
       "      <th>pen_lon</th>\n",
       "      <th>sto_lat</th>\n",
       "      <th>sto_lon</th>\n",
       "      <th>month</th>\n",
       "      <th>day</th>\n",
       "      <th>hour</th>\n",
       "      <th>call_type_a</th>\n",
       "      <th>call_type_b</th>\n",
       "      <th>call_type_c</th>\n",
       "    </tr>\n",
       "  </thead>\n",
       "  <tbody>\n",
       "    <tr>\n",
       "      <th>0</th>\n",
       "      <td>-1.0</td>\n",
       "      <td>-1.0</td>\n",
       "      <td>20000589</td>\n",
       "      <td>2.23</td>\n",
       "      <td>41.141412</td>\n",
       "      <td>-8.618643</td>\n",
       "      <td>41.154498</td>\n",
       "      <td>-8.630829</td>\n",
       "      <td>41.154489</td>\n",
       "      <td>-8.630838</td>\n",
       "      <td>7</td>\n",
       "      <td>1</td>\n",
       "      <td>0</td>\n",
       "      <td>0.0</td>\n",
       "      <td>0.0</td>\n",
       "      <td>1.0</td>\n",
       "    </tr>\n",
       "    <tr>\n",
       "      <th>1</th>\n",
       "      <td>-1.0</td>\n",
       "      <td>7.0</td>\n",
       "      <td>20000596</td>\n",
       "      <td>3.46</td>\n",
       "      <td>41.159826</td>\n",
       "      <td>-8.639847</td>\n",
       "      <td>41.170635</td>\n",
       "      <td>-8.665767</td>\n",
       "      <td>41.170671</td>\n",
       "      <td>-8.665740</td>\n",
       "      <td>7</td>\n",
       "      <td>1</td>\n",
       "      <td>0</td>\n",
       "      <td>0.0</td>\n",
       "      <td>1.0</td>\n",
       "      <td>0.0</td>\n",
       "    </tr>\n",
       "    <tr>\n",
       "      <th>2</th>\n",
       "      <td>-1.0</td>\n",
       "      <td>-1.0</td>\n",
       "      <td>20000320</td>\n",
       "      <td>17.63</td>\n",
       "      <td>41.140359</td>\n",
       "      <td>-8.612964</td>\n",
       "      <td>41.140863</td>\n",
       "      <td>-8.617365</td>\n",
       "      <td>41.140530</td>\n",
       "      <td>-8.615970</td>\n",
       "      <td>7</td>\n",
       "      <td>1</td>\n",
       "      <td>0</td>\n",
       "      <td>0.0</td>\n",
       "      <td>0.0</td>\n",
       "      <td>1.0</td>\n",
       "    </tr>\n",
       "    <tr>\n",
       "      <th>3</th>\n",
       "      <td>-1.0</td>\n",
       "      <td>-1.0</td>\n",
       "      <td>20000520</td>\n",
       "      <td>7.97</td>\n",
       "      <td>41.151951</td>\n",
       "      <td>-8.574678</td>\n",
       "      <td>41.142915</td>\n",
       "      <td>-8.608005</td>\n",
       "      <td>41.142915</td>\n",
       "      <td>-8.607996</td>\n",
       "      <td>7</td>\n",
       "      <td>1</td>\n",
       "      <td>0</td>\n",
       "      <td>0.0</td>\n",
       "      <td>0.0</td>\n",
       "      <td>1.0</td>\n",
       "    </tr>\n",
       "    <tr>\n",
       "      <th>4</th>\n",
       "      <td>-1.0</td>\n",
       "      <td>-1.0</td>\n",
       "      <td>20000337</td>\n",
       "      <td>4.81</td>\n",
       "      <td>41.180490</td>\n",
       "      <td>-8.645994</td>\n",
       "      <td>41.178078</td>\n",
       "      <td>-8.687259</td>\n",
       "      <td>41.178087</td>\n",
       "      <td>-8.687268</td>\n",
       "      <td>7</td>\n",
       "      <td>1</td>\n",
       "      <td>0</td>\n",
       "      <td>0.0</td>\n",
       "      <td>0.0</td>\n",
       "      <td>1.0</td>\n",
       "    </tr>\n",
       "  </tbody>\n",
       "</table>\n",
       "</div>"
      ],
      "text/plain": [
       "   origin_call  origin_stand   taxi_id  dist_perc    sta_lat   sta_lon  \\\n",
       "0         -1.0          -1.0  20000589       2.23  41.141412 -8.618643   \n",
       "1         -1.0           7.0  20000596       3.46  41.159826 -8.639847   \n",
       "2         -1.0          -1.0  20000320      17.63  41.140359 -8.612964   \n",
       "3         -1.0          -1.0  20000520       7.97  41.151951 -8.574678   \n",
       "4         -1.0          -1.0  20000337       4.81  41.180490 -8.645994   \n",
       "\n",
       "     pen_lat   pen_lon    sto_lat   sto_lon  month  day  hour  call_type_a  \\\n",
       "0  41.154498 -8.630829  41.154489 -8.630838      7    1     0          0.0   \n",
       "1  41.170635 -8.665767  41.170671 -8.665740      7    1     0          0.0   \n",
       "2  41.140863 -8.617365  41.140530 -8.615970      7    1     0          0.0   \n",
       "3  41.142915 -8.608005  41.142915 -8.607996      7    1     0          0.0   \n",
       "4  41.178078 -8.687259  41.178087 -8.687268      7    1     0          0.0   \n",
       "\n",
       "   call_type_b  call_type_c  \n",
       "0          0.0          1.0  \n",
       "1          1.0          0.0  \n",
       "2          0.0          1.0  \n",
       "3          0.0          1.0  \n",
       "4          0.0          1.0  "
      ]
     },
     "execution_count": 15,
     "metadata": {},
     "output_type": "execute_result"
    }
   ],
   "source": [
    "df.head()"
   ]
  },
  {
   "cell_type": "markdown",
   "metadata": {},
   "source": [
    "## Start ML processing"
   ]
  },
  {
   "cell_type": "markdown",
   "metadata": {},
   "source": [
    "Separating X and y"
   ]
  },
  {
   "cell_type": "code",
   "execution_count": 16,
   "metadata": {},
   "outputs": [],
   "source": [
    "y = df[['sto_lat', 'sto_lon']]"
   ]
  },
  {
   "cell_type": "code",
   "execution_count": 17,
   "metadata": {},
   "outputs": [],
   "source": [
    "X = df.copy().drop(['sto_lat', 'sto_lon'], axis=1)"
   ]
  },
  {
   "cell_type": "markdown",
   "metadata": {},
   "source": [
    "Normalizing with Min Max scaler (data is not in normal distribution)"
   ]
  },
  {
   "cell_type": "code",
   "execution_count": 18,
   "metadata": {},
   "outputs": [],
   "source": [
    "from sklearn.preprocessing import MinMaxScaler\n",
    "\n",
    "X_t = MinMaxScaler().fit_transform(X)"
   ]
  },
  {
   "cell_type": "markdown",
   "metadata": {},
   "source": [
    "Split train/test"
   ]
  },
  {
   "cell_type": "code",
   "execution_count": 19,
   "metadata": {},
   "outputs": [],
   "source": [
    "from sklearn.model_selection import train_test_split\n",
    "\n",
    "X1, X2, y1, y2 = train_test_split(X_t, y, test_size=0.33, random_state=42)"
   ]
  },
  {
   "cell_type": "markdown",
   "metadata": {},
   "source": [
    "Testing some regressors"
   ]
  },
  {
   "cell_type": "code",
   "execution_count": 20,
   "metadata": {},
   "outputs": [],
   "source": [
    "from sklearn.linear_model import LinearRegression\n",
    "from sklearn.linear_model import Lasso\n",
    "from sklearn.linear_model import Ridge\n",
    "from sklearn.svm import LinearSVR\n",
    "from sklearn.neighbors import KNeighborsRegressor\n",
    "from sklearn.ensemble import GradientBoostingRegressor\n",
    "from sklearn.ensemble import RandomForestRegressor\n",
    "from sklearn.ensemble import AdaBoostRegressor\n",
    "from xgboost import XGBRegressor\n",
    "\n",
    "from sklearn.multioutput import MultiOutputRegressor"
   ]
  },
  {
   "cell_type": "code",
   "execution_count": 118,
   "metadata": {},
   "outputs": [
    {
     "name": "stdout",
     "output_type": "stream",
     "text": [
      "normal linear 0.04720105786224005 0.19469234340305402\n",
      "normal ridge 3.1070450960957117 4.1599047429184735\n",
      "normal lasso 142.7065081365015 561.2795889474457\n",
      "multi lsvr 0.5301121250279166 0.7767335127405629\n",
      "normal KNN reg 3.3861972620770264 3.5182287757352873\n",
      "multi gboost 0.10519601382980781 0.282520022430942\n",
      "multi ada boost 2.4819894066456234 2.4932608615782255\n",
      "normal rnd forest 0.08761489620151998 0.7359845836661133\n",
      "multi xgboost 0.17196969804172219 0.3216972494653177\n"
     ]
    },
    {
     "name": "stderr",
     "output_type": "stream",
     "text": [
      "Exception ignored in: <bound method DMatrix.__del__ of <xgboost.core.DMatrix object at 0x000000DEAC5754E0>>\n",
      "Traceback (most recent call last):\n",
      "  File \"C:\\Users\\a46396\\AppData\\Local\\Continuum\\anaconda3\\lib\\site-packages\\xgboost\\core.py\", line 482, in __del__\n",
      "    if self.handle is not None:\n",
      "AttributeError: 'DMatrix' object has no attribute 'handle'\n"
     ]
    }
   ],
   "source": [
    "algs =[('linear', LinearRegression()),\n",
    "       ('ridge', Ridge(random_state=99)),\n",
    "       ('lasso', Lasso(random_state=99)), #lasso 142.7065081365015 561.2795889474457\n",
    "       ('lsvr', LinearSVR(random_state=99)),\n",
    "       ('KNN reg', KNeighborsRegressor()), #KNN reg 3.3861972620770264 3.5182287757352873\n",
    "       ('gboost', GradientBoostingRegressor(random_state=99)),\n",
    "       ('ada boost', AdaBoostRegressor(random_state=99)),\n",
    "       ('rnd forest', RandomForestRegressor(random_state=99)),\n",
    "       ('xgboost', XGBRegressor(random_state=99, n_jobs=-1))\n",
    "       ]\n",
    "\n",
    "for name, alg in algs:\n",
    "    try:\n",
    "        alg.fit(X1, y1)\n",
    "        preds = alg.predict(X2)\n",
    "\n",
    "        result = y2.copy()\n",
    "        result['pred_lat'] = preds[:,0]\n",
    "        result['pred_lon'] = preds[:,1]\n",
    "        hav_dist = result.apply(lambda x: haversine(x.sto_lon, x.sto_lat, x.pred_lon, x.pred_lat) ,axis=1) \n",
    "\n",
    "        print('normal',name, hav_dist.mean(), hav_dist.std())\n",
    "    except: # se o algoritmo nao possui suporte nativo para multioutput\n",
    "        mo = MultiOutputRegressor(alg, n_jobs=-1).fit(X1, y1)\n",
    "        preds = mo.predict(X2)\n",
    "        \n",
    "        result = y2.copy()\n",
    "        result['pred_lat'] = preds[:,0]\n",
    "        result['pred_lon'] = preds[:,1]\n",
    "        hav_dist = result.apply(lambda x: haversine(x.sto_lon, x.sto_lat, x.pred_lon, x.pred_lat) ,axis=1) \n",
    "        \n",
    "        print('multi',name, hav_dist.mean(), hav_dist.std())"
   ]
  },
  {
   "cell_type": "code",
   "execution_count": 120,
   "metadata": {},
   "outputs": [],
   "source": [
    "def haversine(lon1, lat1, lon2, lat2):\n",
    "    \"\"\"\n",
    "    Calculate the great circle distance between two points \n",
    "    on the earth (specified in decimal degrees)\n",
    "    \"\"\"\n",
    "    # convert decimal degrees to radians \n",
    "    lon1, lat1, lon2, lat2 = map(radians, [lon1, lat1, lon2, lat2])\n",
    "\n",
    "    # haversine formula \n",
    "    #dlon = lon2 - lon1 \n",
    "    #dlat = lat2 - lat1 \n",
    "    a = sin((lat2 - lat1)/2)**2 + cos(lat1) * cos(lat2) * sin((lon2 - lon1)/2)**2\n",
    "    c = 2 * asin(sqrt(a)) \n",
    "    r = 6371 # Radius of earth in kilometers. Use 3956 for miles\n",
    "    return c * r"
   ]
  },
  {
   "cell_type": "markdown",
   "metadata": {},
   "source": [
    "Linear regression(!), Random Forest and Gradient Boost was best test models. Let's try tune them with GridSearch:"
   ]
  },
  {
   "cell_type": "code",
   "execution_count": 21,
   "metadata": {},
   "outputs": [],
   "source": [
    "def haversine2(y, y_pred):\n",
    "    \"\"\"\n",
    "    Calculate the great circle distance between two points \n",
    "    on the earth (specified in decimal degrees)\n",
    "    \"\"\"\n",
    "    lon1, lat1 = y\n",
    "    lon2, lat2 = y_pred\n",
    "    # convert decimal degrees to radians \n",
    "    lon1, lat1, lon2, lat2 = map(radians, [lon1, lat1, lon2, lat2])\n",
    "\n",
    "    # haversine formula \n",
    "    #dlon = lon2 - lon1 \n",
    "    #dlat = lat2 - lat1 \n",
    "    a = sin((lat2 - lat1)/2)**2 + cos(lat1) * cos(lat2) * sin((lon2 - lon1)/2)**2\n",
    "    c = 2 * asin(sqrt(a)) \n",
    "    r = 6371 # Radius of earth in kilometers. Use 3956 for miles\n",
    "    return c * r"
   ]
  },
  {
   "cell_type": "code",
   "execution_count": 22,
   "metadata": {},
   "outputs": [],
   "source": [
    "from sklearn.metrics import make_scorer\n",
    "\n",
    "haversine_scorer = make_scorer(haversine2, greater_is_better=False)"
   ]
  },
  {
   "cell_type": "code",
   "execution_count": null,
   "metadata": {},
   "outputs": [
    {
     "name": "stdout",
     "output_type": "stream",
     "text": [
      "Fitting 10 folds for each of 4 candidates, totalling 40 fits\n"
     ]
    }
   ],
   "source": [
    "from sklearn.model_selection import GridSearchCV\n",
    "\n",
    "param_grid={\n",
    "    'n_estiamtors':[100, 200],\n",
    "    'max_depth': [5, 10]\n",
    "}\n",
    "\n",
    "gs = GridSearchCV(RandomForestRegressor(random_state=99), param_grid=param_grid, n_jobs=-1, scoring=haversine_scorer, cv=10, verbose=2)\n",
    "gs.fit(X1, y1)"
   ]
  },
  {
   "cell_type": "code",
   "execution_count": null,
   "metadata": {},
   "outputs": [],
   "source": []
  }
 ],
 "metadata": {
  "kernelspec": {
   "display_name": "Python 3",
   "language": "python",
   "name": "python3"
  },
  "language_info": {
   "codemirror_mode": {
    "name": "ipython",
    "version": 3
   },
   "file_extension": ".py",
   "mimetype": "text/x-python",
   "name": "python",
   "nbconvert_exporter": "python",
   "pygments_lexer": "ipython3",
   "version": "3.6.5"
  }
 },
 "nbformat": 4,
 "nbformat_minor": 2
}
